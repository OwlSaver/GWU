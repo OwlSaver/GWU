{
  "nbformat": 4,
  "nbformat_minor": 0,
  "metadata": {
    "colab": {
      "provenance": []
    },
    "kernelspec": {
      "name": "python3",
      "display_name": "Python 3"
    },
    "language_info": {
      "name": "python"
    }
  },
  "cells": [
    {
      "cell_type": "markdown",
      "source": [
        "# Homework #3: Support Vector Machines (SVMs)\n",
        "\n",
        "In this assignment, you will develop your own SVM machine learning models using sklearn. Fill in  code if indicated with the comment \"PUT YOUR CODE HERE\" and answer all questions in the document.\n",
        "\n",
        "In this section, please run the provided Python code, add the code needed to complete the tasks described below, and use the results to answer the questions in the HW assignment."
      ],
      "metadata": {
        "id": "E-1Mup6a9mDo"
      }
    },
    {
      "cell_type": "markdown",
      "source": [
        "#Part 1: Python Implementation of SVM\n",
        "\n",
        "Run the following code block and answer the question. Then implement SVM in Python using the sklearn package.\n",
        "\n",
        "Hint: Go to the following tutorial: https://scikit-learn.org/stable/modules/svm.html"
      ],
      "metadata": {
        "id": "91jC6Pl2-ENf"
      }
    },
    {
      "cell_type": "code",
      "source": [
        "#RUN THIS CODE\n",
        "#importing necessary libraries\n",
        "\n",
        "import numpy as np\n",
        "import pandas as pd\n",
        "from sklearn.model_selection import train_test_split\n",
        "from sklearn.svm import SVC\n",
        "from sklearn import datasets\n",
        "from sklearn.metrics import accuracy_score\n",
        "import matplotlib.pyplot as plt\n",
        "\n",
        "#Next let's load the dataset.\n",
        "iris = datasets.load_iris()\n",
        "X = iris.data[:, :2]\n",
        "y = iris.target\n",
        "\n",
        "#Run this code to visualize the dataset and plot it\n",
        "_, ax = plt.subplots()\n",
        "scatter = ax.scatter(iris.data[:, 0], iris.data[:, 1], c=iris.target)\n",
        "ax.set(xlabel=iris.feature_names[0], ylabel=iris.feature_names[1])\n",
        "_ = ax.legend(\n",
        "    scatter.legend_elements()[0], iris.target_names, loc=\"lower right\", title=\"Classes\"\n",
        ")"
      ],
      "metadata": {
        "id": "24PvsfSiB6oK"
      },
      "execution_count": null,
      "outputs": []
    },
    {
      "cell_type": "markdown",
      "source": [
        "**Part 2**: Run the following code block (below Setup: Non-Linear Kernel) to obtain a data plot and perform later exercises as indicated."
      ],
      "metadata": {
        "id": "h-zlkwaS7Hfa"
      }
    },
    {
      "cell_type": "code",
      "source": [
        "\n",
        "import numpy as np\n",
        "import matplotlib.pyplot as plt\n",
        "from sklearn.datasets import load_breast_cancer\n",
        "\n",
        "# Load the Breast Cancer dataset\n",
        "data = load_breast_cancer()\n",
        "X = data.data[:, :2]  # Using only the first two features for visualization purposes\n",
        "y = data.target\n",
        "\n",
        "# Plot the data points\n",
        "plt.figure(figsize=(8, 6))\n",
        "\n",
        "# Plot the data points colored by class\n",
        "plt.scatter(X[:, 0], X[:, 1], c=y, cmap=plt.cm.coolwarm, edgecolors='k')\n",
        "plt.title('Scatter Plot of Breast Cancer Dataset')\n",
        "plt.xlabel(data.feature_names[0])\n",
        "plt.ylabel(data.feature_names[1])\n",
        "plt.show()"
      ],
      "metadata": {
        "id": "EMCuwghISR8p"
      },
      "execution_count": null,
      "outputs": []
    },
    {
      "cell_type": "markdown",
      "source": [
        "**Coding Exercise:** Based on the data plot above, develop a linear SVM and show the result.\n",
        "\n",
        "Fill in your own code where there is a comment that states ## PUT YOUR CODE HERE"
      ],
      "metadata": {
        "id": "gT58dbsiuqgi"
      }
    },
    {
      "cell_type": "code",
      "source": [
        "import numpy as np\n",
        "import matplotlib.pyplot as plt\n",
        "from sklearn.datasets import load_breast_cancer\n",
        "from sklearn.model_selection import train_test_split\n",
        "from sklearn.svm import SVC\n",
        "from sklearn.metrics import accuracy_score\n",
        "\n",
        "# Load the Breast Cancer dataset\n",
        "data = load_breast_cancer()\n",
        "X = data.data[:, :2]  # Using only the first two features for visualization purposes\n",
        "y = data.target\n",
        "\n",
        "# Split the dataset into training and testing sets\n",
        "X_train, X_test, y_train, y_test = train_test_split(X, y, test_size=0.2, random_state=42)\n",
        "\n",
        "# Define the SVM model with linear kernel (name the SVM Model: svm_classifier)\n",
        "## PUT YOUR CODE HERE\n",
        "\n",
        "# Train the SVM model\n",
        "## PUT YOUR CODE HERE\n",
        "\n",
        "# Make predictions on the test data (output variable: y_pred)\n",
        "## PUT YOUR CODE HERE\n",
        "\n",
        "# Calculate accuracy\n",
        "accuracy = accuracy_score(y_test, y_pred)\n",
        "print(\"Accuracy:\", accuracy)\n",
        "\n",
        "# Plot decision boundary\n",
        "plt.figure(figsize=(8, 6))\n",
        "\n",
        "# Plot the decision boundary\n",
        "h = .02  # step size in the mesh\n",
        "x_min, x_max = X[:, 0].min() - 1, X[:, 0].max() + 1\n",
        "y_min, y_max = X[:, 1].min() - 1, X[:, 1].max() + 1\n",
        "xx, yy = np.meshgrid(np.arange(x_min, x_max, h),\n",
        "                     np.arange(y_min, y_max, h))\n",
        "Z = svm_classifier.predict(np.c_[xx.ravel(), yy.ravel()])\n",
        "\n",
        "# Put the result into a color plot\n",
        "Z = Z.reshape(xx.shape)\n",
        "plt.contourf(xx, yy, Z, cmap=plt.cm.coolwarm, alpha=0.8)\n",
        "\n",
        "# Plot the data points\n",
        "plt.scatter(X[:, 0], X[:, 1], c=y, cmap=plt.cm.coolwarm, edgecolors='k')\n",
        "plt.xlabel(data.feature_names[0])\n",
        "plt.ylabel(data.feature_names[1])\n",
        "plt.title('SVM Decision Boundary with Linear Kernel')\n",
        "plt.show()"
      ],
      "metadata": {
        "id": "RkyrJgoHSUT5"
      },
      "execution_count": null,
      "outputs": []
    },
    {
      "cell_type": "markdown",
      "source": [
        "**Coding Exercise:** Redo the above problem but now develop a non-linear SVM with an RBF Kernel instead.\n",
        "\n",
        "Again, fill in your own code where there is a comment that states ## PUT YOUR CODE HERE\n",
        "\n",
        "\n"
      ],
      "metadata": {
        "id": "1APya2o7v4VQ"
      }
    },
    {
      "cell_type": "code",
      "source": [
        "import numpy as np\n",
        "import matplotlib.pyplot as plt\n",
        "from sklearn.datasets import load_breast_cancer\n",
        "from sklearn.model_selection import train_test_split\n",
        "from sklearn.svm import SVC\n",
        "from sklearn.metrics import accuracy_score\n",
        "\n",
        "# Load the Breast Cancer dataset\n",
        "data = load_breast_cancer()\n",
        "X = data.data[:, :2]  # Using only the first two features for visualization purposes\n",
        "y = data.target\n",
        "\n",
        "# Split the dataset into training and testing sets\n",
        "X_train, X_test, y_train, y_test = train_test_split(X, y, test_size=0.2, random_state=42)\n",
        "\n",
        "# Define the SVM model with RBF kernel (Name SVM Model: svm_classifier)\n",
        "## PUT YOUR CODE HERE\n",
        "\n",
        "# Train the SVM model\n",
        "## PUT YOUR CODE HERE\n",
        "\n",
        "# Make predictions on the test data (output variable: y_pred)\n",
        "## PUT YOUR CODE HERE\n",
        "\n",
        "# Calculate accuracy\n",
        "accuracy = accuracy_score(y_test, y_pred)\n",
        "print(\"Accuracy:\", accuracy)\n",
        "\n",
        "# Plot decision boundary\n",
        "plt.figure(figsize=(8, 6))\n",
        "\n",
        "# Plot the decision boundary\n",
        "h = .02  # step size in the mesh\n",
        "x_min, x_max = X[:, 0].min() - 1, X[:, 0].max() + 1\n",
        "y_min, y_max = X[:, 1].min() - 1, X[:, 1].max() + 1\n",
        "xx, yy = np.meshgrid(np.arange(x_min, x_max, h),\n",
        "                     np.arange(y_min, y_max, h))\n",
        "Z = svm_classifier.predict(np.c_[xx.ravel(), yy.ravel()])\n",
        "\n",
        "# Put the result into a color plot\n",
        "Z = Z.reshape(xx.shape)\n",
        "plt.contourf(xx, yy, Z, cmap=plt.cm.coolwarm, alpha=0.8)\n",
        "\n",
        "# Plot the data points\n",
        "plt.scatter(X[:, 0], X[:, 1], c=y, cmap=plt.cm.coolwarm, edgecolors='k')\n",
        "plt.xlabel(data.feature_names[0])\n",
        "plt.ylabel(data.feature_names[1])\n",
        "plt.title('SVM Decision Boundary with RBF Kernel')\n",
        "plt.show()"
      ],
      "metadata": {
        "id": "E4WqXNzxRNTq"
      },
      "execution_count": null,
      "outputs": []
    }
  ]
}
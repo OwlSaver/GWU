{
  "nbformat": 4,
  "nbformat_minor": 0,
  "metadata": {
    "colab": {
      "provenance": [],
      "gpuType": "T4"
    },
    "kernelspec": {
      "name": "python3",
      "display_name": "Python 3"
    },
    "language_info": {
      "name": "python"
    },
    "accelerator": "GPU"
  },
  "cells": [
    {
      "cell_type": "markdown",
      "source": [
        "#Homework #5: Introduction to TensorFlow and Neural Networks and Clustering\n",
        "\n",
        "\n",
        "In this assignment, you will develop your own neural networks and clustering models.\n",
        "\n",
        "Fill in the code if indicated with the comment \"PUT YOUR CODE HERE\" and follow all the steps in the document.\n",
        "\n",
        "In this section, please run the provided Python code, add the code needed to complete the tasks described below, and use the results to answer the questions in the HW assignment.\n",
        "Use the Runtime tab to change your Runtime Type to T4 GPU to speed things up."
      ],
      "metadata": {
        "id": "E-1Mup6a9mDo"
      }
    },
    {
      "cell_type": "markdown",
      "source": [
        "#Part 1: Python Implementation of Neural Networks\n",
        "\n",
        "Modify the code below to see how you can implement a Convolutional Neural Network with TensorFlow. The code needs to reshape the input data.\n",
        "\n",
        "Follow the instructions below for your code.\n",
        "\n",
        "1. Add a line of code to reshape the training data X_train.\n",
        "It is reshaped into a 4-dimensional array with dimensions (batch_size, height, width, channels). In this case, batch_size remains unspecified with -1, which typically means it is inferred based on the size of the original array. Each input image is reshaped into an 8x8 grayscale image (height = 8, width = 8) with a single channel (1 for grayscale).\n",
        "\n",
        "2. Similar to the first line of code, add a line to reshape the test data X_test into the same format as the training data. Then add code to define a convolutional neural network (CNN) model using TensorFlow's Keras API.\n",
        "\n",
        "3. Define a convolutional layer with 32 filters of size 3x3. It applies the ReLU activation function to the output of each filter. The input_shape parameter specifies the shape of the input data, which is expected to be 8x8 grayscale images with a single channel.\n",
        "\n",
        "4. Define a layer that applies max pooling with a pool size of 2x2.\n",
        "\n",
        "5. Define a layer that flattens the output of the previous layer into a 1D array. This is necessary to transition from the convolutional layers to the fully connected layers.\n",
        "\n",
        "6. Define a layer that is a fully connected (dense) layer with 100 units and ReLU activation function.\n",
        "\n",
        "7. Define the output layer of the network. It's also a dense layer. The activation function is softmax. **Set the appropriate number of output layer neurons based on the dataset you are working with.**\n",
        "\n",
        "Overall, this model consists of convolutional layers followed by pooling, flattening, and fully connected layers, ending with a softmax layer for classification.\n"
      ],
      "metadata": {
        "id": "91jC6Pl2-ENf"
      }
    },
    {
      "cell_type": "code",
      "source": [
        "import numpy as np\n",
        "from sklearn.datasets import load_digits\n",
        "from sklearn.model_selection import train_test_split\n",
        "from sklearn.neural_network import MLPClassifier\n",
        "from sklearn.metrics import accuracy_score, confusion_matrix\n",
        "import tensorflow as tf\n",
        "from tensorflow.keras import layers, models\n",
        "\n",
        "# Load dataset\n",
        "digits = load_digits()\n",
        "X, y = digits.data, digits.target\n",
        "\n",
        "# Preprocess dataset\n",
        "X = X / 255.0  # Normalize pixel values\n",
        "X_train, X_test, y_train, y_test = train_test_split(X, y, test_size=0.2, random_state=42)\n",
        "\n",
        "# Scikit-learn MLP Classifier\n",
        "mlp_clf = MLPClassifier(hidden_layer_sizes=(100,), max_iter=500, alpha=0.0001,\n",
        "                        solver='adam', verbose=10, random_state=42)\n",
        "mlp_clf.fit(X_train, y_train)\n",
        "mlp_pred = mlp_clf.predict(X_test)\n",
        "mlp_accuracy = accuracy_score(y_test, mlp_pred)\n",
        "mlp_conf_matrix = confusion_matrix(y_test, mlp_pred)\n",
        "\n",
        "print(\"Scikit-learn MLP Classifier:\")\n",
        "print(\"Accuracy:\", mlp_accuracy)\n",
        "print(\"Confusion Matrix:\\n\", mlp_conf_matrix)\n",
        "\n",
        "# TensorFlow CNN\n",
        "# PUT YOUR CODE HERE vvvv\n",
        "\n",
        "#Add a line of code to reshape the training data X_train.\n",
        "\n",
        "\n",
        "#Similar to the first line of code, add a line to reshape the test data X_test into the same format as the training data.\n",
        "#Then add code to define a convolutional neural network (CNN) model using TensorFlow's Keras API.\n",
        "\n",
        "\n",
        "#Define a convolutional layer with 32 filters of size 3x3. It applies the ReLU activation function to the output of each filter.\n",
        "#Define a layer that applies max pooling with a pool size of 2x2.\n",
        "#Define a layer that flattens the output of the previous layer into a 1D array.\n",
        "#Define a layer that is a fully connected (dense) layer with 100 units and ReLU activation function.\n",
        "# Define the output layer of the network. It's also a dense layer. The activation function is softmax. Set the appropriate number of output layer neurons based on the dataset you are working with.\n",
        "\n",
        "\n",
        "\n",
        "# PUT YOUR CODE HERE ^^^^\n",
        "\n",
        "\n",
        "\n",
        "model.compile(optimizer='adam',\n",
        "              loss='sparse_categorical_crossentropy',\n",
        "              metrics=['accuracy'])\n",
        "\n",
        "history = model.fit(X_train, y_train, epochs=10, validation_data=(X_test, y_test))\n",
        "\n",
        "cnn_loss, cnn_accuracy = model.evaluate(X_test, y_test)\n",
        "cnn_pred = np.argmax(model.predict(X_test), axis=-1)\n",
        "cnn_conf_matrix = confusion_matrix(y_test, cnn_pred)\n",
        "\n",
        "print(\"\\nTensorFlow CNN:\")\n",
        "print(\"Accuracy:\", cnn_accuracy)\n",
        "print(\"Confusion Matrix:\\n\", cnn_conf_matrix)\n",
        "\n"
      ],
      "metadata": {
        "id": "24PvsfSiB6oK"
      },
      "execution_count": null,
      "outputs": []
    },
    {
      "cell_type": "markdown",
      "source": [
        "#Part 2: Clustering\n",
        "In the code below, implement K-means using the KMeans package from sklearn.cluster where there is a comment that says \"put your code here\". Follow the comments to implement k-means with the number of clusters being 4 and 10.\n",
        "\n",
        "Then, answer the discussion questions in part 3.\n",
        "\n"
      ],
      "metadata": {
        "id": "24sSR1dA4s4R"
      }
    },
    {
      "cell_type": "code",
      "source": [
        "import numpy as np\n",
        "import matplotlib.pyplot as plt\n",
        "from sklearn.datasets import make_blobs\n",
        "from sklearn.cluster import KMeans\n",
        "\n",
        "# Generate synthetic dataset\n",
        "X, _ = make_blobs(n_samples=300, centers=4, cluster_std=0.60, random_state=0)\n",
        "\n",
        "# Visualize the data before clustering\n",
        "plt.figure(figsize=(8, 6))\n",
        "plt.scatter(X[:, 0], X[:, 1], s=50, color='blue', alpha=0.5)\n",
        "plt.title('Data Before K-Means Clustering')\n",
        "plt.xlabel('Feature 1')\n",
        "plt.ylabel('Feature 2')\n",
        "plt.show()\n",
        "\n",
        "# Implement K-Means clustering with n_clusters = 4. Call the model kmeans\n",
        "# PUT YOUR CODE HERE vvvv\n",
        "\n",
        "\n",
        "\n",
        "# PUT YOUR CODE HERE ^^^^\n",
        "\n",
        "\n",
        "# Visualize the data after clustering\n",
        "plt.figure(figsize=(8, 6))\n",
        "plt.scatter(X[:, 0], X[:, 1], c=kmeans.labels_, cmap='viridis', s=50, alpha=0.8)\n",
        "plt.scatter(kmeans.cluster_centers_[:, 0], kmeans.cluster_centers_[:, 1], marker='*', s=200, c='red', label='Centroids')\n",
        "plt.title('Data After K-Means  - k=4')\n",
        "plt.xlabel('Feature 1')\n",
        "plt.ylabel('Feature 2')\n",
        "plt.legend()\n",
        "plt.show()\n",
        "\n",
        "# Implement K-Means clustering with n_clusters = 10. Call the model kmeans\n",
        "# PUT YOUR CODE HERE vvvv\n",
        "\n",
        "\n",
        "\n",
        "# PUT YOUR CODE HERE ^^^^\n",
        "\n",
        "\n",
        "# Visualize the data after clustering\n",
        "plt.figure(figsize=(8, 6))\n",
        "plt.scatter(X[:, 0], X[:, 1], c=kmeans.labels_, cmap='viridis', s=50, alpha=0.8)\n",
        "plt.scatter(kmeans.cluster_centers_[:, 0], kmeans.cluster_centers_[:, 1], marker='*', s=200, c='red', label='Centroids')\n",
        "plt.title('Data After K-Means - k=10')\n",
        "plt.xlabel('Feature 1')\n",
        "plt.ylabel('Feature 2')\n",
        "plt.legend()\n",
        "plt.show()"
      ],
      "metadata": {
        "id": "f6ISjyxP49WE"
      },
      "execution_count": null,
      "outputs": []
    }
  ]
}
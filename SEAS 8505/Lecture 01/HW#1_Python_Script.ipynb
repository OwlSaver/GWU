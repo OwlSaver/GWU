{
  "nbformat": 4,
  "nbformat_minor": 0,
  "metadata": {
    "colab": {
      "provenance": []
    },
    "kernelspec": {
      "name": "python3",
      "display_name": "Python 3"
    },
    "language_info": {
      "name": "python"
    }
  },
  "cells": [
    {
      "cell_type": "markdown",
      "source": [
        "# Homework #1: Introduction to Google Colab and Python\n",
        "\n",
        "In this assignment, you will familarize yourself with how to run code in the Google Colab platform. All assignments in this course will require the use of this platform.\n",
        "\n"
      ],
      "metadata": {
        "id": "E-1Mup6a9mDo"
      }
    },
    {
      "cell_type": "markdown",
      "source": [
        "#Part 1: Introduction to Running Python in Google Colab\n",
        "\n",
        "In this section, please run the provided Python code and use the results to answer the questions in the HW assignment."
      ],
      "metadata": {
        "id": "91jC6Pl2-ENf"
      }
    },
    {
      "cell_type": "markdown",
      "source": [
        "Run the code below:"
      ],
      "metadata": {
        "id": "E5UuyjSC9jp8"
      }
    },
    {
      "cell_type": "code",
      "source": [
        "import numpy as np\n",
        "import sklearn\n",
        "from sklearn.datasets import load_breast_cancer\n",
        "\n",
        "data = load_breast_cancer()\n",
        "\n",
        "label_names = data['target_names']\n",
        "labels = data['target']\n",
        "feature_names = data['feature_names']\n",
        "features = data['data']\n",
        "\n",
        "from sklearn.model_selection import train_test_split\n",
        "train, test, train_labels, test_labels = train_test_split(features,\n",
        "                                                          labels,\n",
        "                                                          test_size=0.33,\n",
        "                                                          random_state=42)\n",
        "\n",
        "#Using a Gaussian Naive Bayes classifier\n",
        "from sklearn.naive_bayes import GaussianNB\n",
        "gnb = GaussianNB()\n",
        "clf = gnb.fit(train, train_labels)\n",
        "preds = gnb.predict(test)\n",
        "\n",
        "from sklearn.metrics import accuracy_score\n",
        "#determine the accuracy score\n",
        "print(\"The accuracy score is: \", accuracy_score(test_labels, preds))\n",
        "\n",
        "from sklearn.metrics import confusion_matrix, ConfusionMatrixDisplay\n",
        "cm_data = confusion_matrix(test_labels, preds, labels=np.unique(test_labels))\n",
        "\n",
        "disp = ConfusionMatrixDisplay(confusion_matrix=cm_data,\n",
        "                              display_labels=clf.classes_)\n",
        "disp.plot()\n",
        "\n",
        "from sklearn.metrics import classification_report\n",
        "print(\"Sklearn classification report: \")\n",
        "print(classification_report(test_labels, preds))\n",
        "\n",
        "print(\"The confusion matrix is: \")"
      ],
      "metadata": {
        "id": "24PvsfSiB6oK"
      },
      "execution_count": null,
      "outputs": []
    }
  ]
}
{
  "nbformat": 4,
  "nbformat_minor": 0,
  "metadata": {
    "colab": {
      "provenance": [],
      "gpuType": "A100"
    },
    "kernelspec": {
      "name": "python3",
      "display_name": "Python 3"
    },
    "language_info": {
      "name": "python"
    },
    "accelerator": "GPU"
  },
  "cells": [
    {
      "cell_type": "markdown",
      "source": [
        "# Import Necessary Libraries\n",
        "This section imports essential libraries needed for the project. `numpy` and `pandas` are used for data manipulation, `tensorflow` for building and training the neural network model, and various"
      ],
      "metadata": {
        "id": "vWYpvop-VH3n"
      }
    },
    {
      "cell_type": "code",
      "source": [
        "import numpy as np\n",
        "import pandas as pd\n",
        "import tensorflow as tf\n",
        "from sklearn.model_selection import train_test_split\n",
        "from sklearn.preprocessing import StandardScaler, LabelEncoder, OneHotEncoder\n",
        "from sklearn.compose import ColumnTransformer\n",
        "from sklearn.metrics import confusion_matrix, accuracy_score"
      ],
      "metadata": {
        "id": "Y-kAQ2uuVMxh"
      },
      "execution_count": 1,
      "outputs": []
    },
    {
      "cell_type": "code",
      "source": [
        "from google.colab import drive\n",
        "drive.mount('/content/drive')\n",
        "file_path = \"/content/drive/My Drive/GW_DA2/Churn_Modelling.csv\""
      ],
      "metadata": {
        "colab": {
          "base_uri": "https://localhost:8080/"
        },
        "id": "Pxx2pYPWoJmG",
        "outputId": "177159f3-1435-42da-a6df-448fdd533526"
      },
      "execution_count": 2,
      "outputs": [
        {
          "output_type": "stream",
          "name": "stdout",
          "text": [
            "Mounted at /content/drive\n"
          ]
        }
      ]
    },
    {
      "cell_type": "markdown",
      "source": [
        "# Load the Dataset\n",
        "This step involves loading the dataset from a CSV file into a pandas DataFrame. The dataset includes various features of bank customers and a target variable indicating whether the customer exited the bank (churned). We separate the features (X) and the target variable (y) for further processing.\n"
      ],
      "metadata": {
        "id": "LVgBfuGkVP40"
      }
    },
    {
      "cell_type": "code",
      "source": [
        "dataset = pd.read_csv(file_path)\n",
        "X = dataset.iloc[:, 3:-1].values\n",
        "y = dataset.iloc[:, -1].values"
      ],
      "metadata": {
        "id": "NEjmkseGVS6I"
      },
      "execution_count": 3,
      "outputs": []
    },
    {
      "cell_type": "code",
      "source": [
        "dataset.head(2)"
      ],
      "metadata": {
        "colab": {
          "base_uri": "https://localhost:8080/",
          "height": 132
        },
        "id": "c9iQ2Nk_ZCHd",
        "outputId": "08d9809e-4a67-4d50-a113-b2c5eb60abc5"
      },
      "execution_count": 4,
      "outputs": [
        {
          "output_type": "execute_result",
          "data": {
            "text/plain": [
              "   RowNumber  CustomerId   Surname  CreditScore Geography  Gender  Age  \\\n",
              "0          1    15634602  Hargrave          619    France  Female   42   \n",
              "1          2    15647311      Hill          608     Spain  Female   41   \n",
              "\n",
              "   Tenure   Balance  NumOfProducts  HasCrCard  IsActiveMember  \\\n",
              "0       2      0.00              1          1               1   \n",
              "1       1  83807.86              1          0               1   \n",
              "\n",
              "   EstimatedSalary  Exited  \n",
              "0        101348.88       1  \n",
              "1        112542.58       0  "
            ],
            "text/html": [
              "\n",
              "  <div id=\"df-0db51d1a-66bd-4c1e-a551-112871eedea1\" class=\"colab-df-container\">\n",
              "    <div>\n",
              "<style scoped>\n",
              "    .dataframe tbody tr th:only-of-type {\n",
              "        vertical-align: middle;\n",
              "    }\n",
              "\n",
              "    .dataframe tbody tr th {\n",
              "        vertical-align: top;\n",
              "    }\n",
              "\n",
              "    .dataframe thead th {\n",
              "        text-align: right;\n",
              "    }\n",
              "</style>\n",
              "<table border=\"1\" class=\"dataframe\">\n",
              "  <thead>\n",
              "    <tr style=\"text-align: right;\">\n",
              "      <th></th>\n",
              "      <th>RowNumber</th>\n",
              "      <th>CustomerId</th>\n",
              "      <th>Surname</th>\n",
              "      <th>CreditScore</th>\n",
              "      <th>Geography</th>\n",
              "      <th>Gender</th>\n",
              "      <th>Age</th>\n",
              "      <th>Tenure</th>\n",
              "      <th>Balance</th>\n",
              "      <th>NumOfProducts</th>\n",
              "      <th>HasCrCard</th>\n",
              "      <th>IsActiveMember</th>\n",
              "      <th>EstimatedSalary</th>\n",
              "      <th>Exited</th>\n",
              "    </tr>\n",
              "  </thead>\n",
              "  <tbody>\n",
              "    <tr>\n",
              "      <th>0</th>\n",
              "      <td>1</td>\n",
              "      <td>15634602</td>\n",
              "      <td>Hargrave</td>\n",
              "      <td>619</td>\n",
              "      <td>France</td>\n",
              "      <td>Female</td>\n",
              "      <td>42</td>\n",
              "      <td>2</td>\n",
              "      <td>0.00</td>\n",
              "      <td>1</td>\n",
              "      <td>1</td>\n",
              "      <td>1</td>\n",
              "      <td>101348.88</td>\n",
              "      <td>1</td>\n",
              "    </tr>\n",
              "    <tr>\n",
              "      <th>1</th>\n",
              "      <td>2</td>\n",
              "      <td>15647311</td>\n",
              "      <td>Hill</td>\n",
              "      <td>608</td>\n",
              "      <td>Spain</td>\n",
              "      <td>Female</td>\n",
              "      <td>41</td>\n",
              "      <td>1</td>\n",
              "      <td>83807.86</td>\n",
              "      <td>1</td>\n",
              "      <td>0</td>\n",
              "      <td>1</td>\n",
              "      <td>112542.58</td>\n",
              "      <td>0</td>\n",
              "    </tr>\n",
              "  </tbody>\n",
              "</table>\n",
              "</div>\n",
              "    <div class=\"colab-df-buttons\">\n",
              "\n",
              "  <div class=\"colab-df-container\">\n",
              "    <button class=\"colab-df-convert\" onclick=\"convertToInteractive('df-0db51d1a-66bd-4c1e-a551-112871eedea1')\"\n",
              "            title=\"Convert this dataframe to an interactive table.\"\n",
              "            style=\"display:none;\">\n",
              "\n",
              "  <svg xmlns=\"http://www.w3.org/2000/svg\" height=\"24px\" viewBox=\"0 -960 960 960\">\n",
              "    <path d=\"M120-120v-720h720v720H120Zm60-500h600v-160H180v160Zm220 220h160v-160H400v160Zm0 220h160v-160H400v160ZM180-400h160v-160H180v160Zm440 0h160v-160H620v160ZM180-180h160v-160H180v160Zm440 0h160v-160H620v160Z\"/>\n",
              "  </svg>\n",
              "    </button>\n",
              "\n",
              "  <style>\n",
              "    .colab-df-container {\n",
              "      display:flex;\n",
              "      gap: 12px;\n",
              "    }\n",
              "\n",
              "    .colab-df-convert {\n",
              "      background-color: #E8F0FE;\n",
              "      border: none;\n",
              "      border-radius: 50%;\n",
              "      cursor: pointer;\n",
              "      display: none;\n",
              "      fill: #1967D2;\n",
              "      height: 32px;\n",
              "      padding: 0 0 0 0;\n",
              "      width: 32px;\n",
              "    }\n",
              "\n",
              "    .colab-df-convert:hover {\n",
              "      background-color: #E2EBFA;\n",
              "      box-shadow: 0px 1px 2px rgba(60, 64, 67, 0.3), 0px 1px 3px 1px rgba(60, 64, 67, 0.15);\n",
              "      fill: #174EA6;\n",
              "    }\n",
              "\n",
              "    .colab-df-buttons div {\n",
              "      margin-bottom: 4px;\n",
              "    }\n",
              "\n",
              "    [theme=dark] .colab-df-convert {\n",
              "      background-color: #3B4455;\n",
              "      fill: #D2E3FC;\n",
              "    }\n",
              "\n",
              "    [theme=dark] .colab-df-convert:hover {\n",
              "      background-color: #434B5C;\n",
              "      box-shadow: 0px 1px 3px 1px rgba(0, 0, 0, 0.15);\n",
              "      filter: drop-shadow(0px 1px 2px rgba(0, 0, 0, 0.3));\n",
              "      fill: #FFFFFF;\n",
              "    }\n",
              "  </style>\n",
              "\n",
              "    <script>\n",
              "      const buttonEl =\n",
              "        document.querySelector('#df-0db51d1a-66bd-4c1e-a551-112871eedea1 button.colab-df-convert');\n",
              "      buttonEl.style.display =\n",
              "        google.colab.kernel.accessAllowed ? 'block' : 'none';\n",
              "\n",
              "      async function convertToInteractive(key) {\n",
              "        const element = document.querySelector('#df-0db51d1a-66bd-4c1e-a551-112871eedea1');\n",
              "        const dataTable =\n",
              "          await google.colab.kernel.invokeFunction('convertToInteractive',\n",
              "                                                    [key], {});\n",
              "        if (!dataTable) return;\n",
              "\n",
              "        const docLinkHtml = 'Like what you see? Visit the ' +\n",
              "          '<a target=\"_blank\" href=https://colab.research.google.com/notebooks/data_table.ipynb>data table notebook</a>'\n",
              "          + ' to learn more about interactive tables.';\n",
              "        element.innerHTML = '';\n",
              "        dataTable['output_type'] = 'display_data';\n",
              "        await google.colab.output.renderOutput(dataTable, element);\n",
              "        const docLink = document.createElement('div');\n",
              "        docLink.innerHTML = docLinkHtml;\n",
              "        element.appendChild(docLink);\n",
              "      }\n",
              "    </script>\n",
              "  </div>\n",
              "\n",
              "\n",
              "<div id=\"df-1a0a4998-f58c-49c0-80ea-f4474f7d80ef\">\n",
              "  <button class=\"colab-df-quickchart\" onclick=\"quickchart('df-1a0a4998-f58c-49c0-80ea-f4474f7d80ef')\"\n",
              "            title=\"Suggest charts\"\n",
              "            style=\"display:none;\">\n",
              "\n",
              "<svg xmlns=\"http://www.w3.org/2000/svg\" height=\"24px\"viewBox=\"0 0 24 24\"\n",
              "     width=\"24px\">\n",
              "    <g>\n",
              "        <path d=\"M19 3H5c-1.1 0-2 .9-2 2v14c0 1.1.9 2 2 2h14c1.1 0 2-.9 2-2V5c0-1.1-.9-2-2-2zM9 17H7v-7h2v7zm4 0h-2V7h2v10zm4 0h-2v-4h2v4z\"/>\n",
              "    </g>\n",
              "</svg>\n",
              "  </button>\n",
              "\n",
              "<style>\n",
              "  .colab-df-quickchart {\n",
              "      --bg-color: #E8F0FE;\n",
              "      --fill-color: #1967D2;\n",
              "      --hover-bg-color: #E2EBFA;\n",
              "      --hover-fill-color: #174EA6;\n",
              "      --disabled-fill-color: #AAA;\n",
              "      --disabled-bg-color: #DDD;\n",
              "  }\n",
              "\n",
              "  [theme=dark] .colab-df-quickchart {\n",
              "      --bg-color: #3B4455;\n",
              "      --fill-color: #D2E3FC;\n",
              "      --hover-bg-color: #434B5C;\n",
              "      --hover-fill-color: #FFFFFF;\n",
              "      --disabled-bg-color: #3B4455;\n",
              "      --disabled-fill-color: #666;\n",
              "  }\n",
              "\n",
              "  .colab-df-quickchart {\n",
              "    background-color: var(--bg-color);\n",
              "    border: none;\n",
              "    border-radius: 50%;\n",
              "    cursor: pointer;\n",
              "    display: none;\n",
              "    fill: var(--fill-color);\n",
              "    height: 32px;\n",
              "    padding: 0;\n",
              "    width: 32px;\n",
              "  }\n",
              "\n",
              "  .colab-df-quickchart:hover {\n",
              "    background-color: var(--hover-bg-color);\n",
              "    box-shadow: 0 1px 2px rgba(60, 64, 67, 0.3), 0 1px 3px 1px rgba(60, 64, 67, 0.15);\n",
              "    fill: var(--button-hover-fill-color);\n",
              "  }\n",
              "\n",
              "  .colab-df-quickchart-complete:disabled,\n",
              "  .colab-df-quickchart-complete:disabled:hover {\n",
              "    background-color: var(--disabled-bg-color);\n",
              "    fill: var(--disabled-fill-color);\n",
              "    box-shadow: none;\n",
              "  }\n",
              "\n",
              "  .colab-df-spinner {\n",
              "    border: 2px solid var(--fill-color);\n",
              "    border-color: transparent;\n",
              "    border-bottom-color: var(--fill-color);\n",
              "    animation:\n",
              "      spin 1s steps(1) infinite;\n",
              "  }\n",
              "\n",
              "  @keyframes spin {\n",
              "    0% {\n",
              "      border-color: transparent;\n",
              "      border-bottom-color: var(--fill-color);\n",
              "      border-left-color: var(--fill-color);\n",
              "    }\n",
              "    20% {\n",
              "      border-color: transparent;\n",
              "      border-left-color: var(--fill-color);\n",
              "      border-top-color: var(--fill-color);\n",
              "    }\n",
              "    30% {\n",
              "      border-color: transparent;\n",
              "      border-left-color: var(--fill-color);\n",
              "      border-top-color: var(--fill-color);\n",
              "      border-right-color: var(--fill-color);\n",
              "    }\n",
              "    40% {\n",
              "      border-color: transparent;\n",
              "      border-right-color: var(--fill-color);\n",
              "      border-top-color: var(--fill-color);\n",
              "    }\n",
              "    60% {\n",
              "      border-color: transparent;\n",
              "      border-right-color: var(--fill-color);\n",
              "    }\n",
              "    80% {\n",
              "      border-color: transparent;\n",
              "      border-right-color: var(--fill-color);\n",
              "      border-bottom-color: var(--fill-color);\n",
              "    }\n",
              "    90% {\n",
              "      border-color: transparent;\n",
              "      border-bottom-color: var(--fill-color);\n",
              "    }\n",
              "  }\n",
              "</style>\n",
              "\n",
              "  <script>\n",
              "    async function quickchart(key) {\n",
              "      const quickchartButtonEl =\n",
              "        document.querySelector('#' + key + ' button');\n",
              "      quickchartButtonEl.disabled = true;  // To prevent multiple clicks.\n",
              "      quickchartButtonEl.classList.add('colab-df-spinner');\n",
              "      try {\n",
              "        const charts = await google.colab.kernel.invokeFunction(\n",
              "            'suggestCharts', [key], {});\n",
              "      } catch (error) {\n",
              "        console.error('Error during call to suggestCharts:', error);\n",
              "      }\n",
              "      quickchartButtonEl.classList.remove('colab-df-spinner');\n",
              "      quickchartButtonEl.classList.add('colab-df-quickchart-complete');\n",
              "    }\n",
              "    (() => {\n",
              "      let quickchartButtonEl =\n",
              "        document.querySelector('#df-1a0a4998-f58c-49c0-80ea-f4474f7d80ef button');\n",
              "      quickchartButtonEl.style.display =\n",
              "        google.colab.kernel.accessAllowed ? 'block' : 'none';\n",
              "    })();\n",
              "  </script>\n",
              "</div>\n",
              "\n",
              "    </div>\n",
              "  </div>\n"
            ],
            "application/vnd.google.colaboratory.intrinsic+json": {
              "type": "dataframe",
              "variable_name": "dataset",
              "summary": "{\n  \"name\": \"dataset\",\n  \"rows\": 10000,\n  \"fields\": [\n    {\n      \"column\": \"RowNumber\",\n      \"properties\": {\n        \"dtype\": \"number\",\n        \"std\": 2886,\n        \"min\": 1,\n        \"max\": 10000,\n        \"num_unique_values\": 10000,\n        \"samples\": [\n          6253,\n          4685,\n          1732\n        ],\n        \"semantic_type\": \"\",\n        \"description\": \"\"\n      }\n    },\n    {\n      \"column\": \"CustomerId\",\n      \"properties\": {\n        \"dtype\": \"number\",\n        \"std\": 71936,\n        \"min\": 15565701,\n        \"max\": 15815690,\n        \"num_unique_values\": 10000,\n        \"samples\": [\n          15687492,\n          15736963,\n          15721730\n        ],\n        \"semantic_type\": \"\",\n        \"description\": \"\"\n      }\n    },\n    {\n      \"column\": \"Surname\",\n      \"properties\": {\n        \"dtype\": \"category\",\n        \"num_unique_values\": 2932,\n        \"samples\": [\n          \"McGuirk\",\n          \"Torkelson\",\n          \"Rapuluchukwu\"\n        ],\n        \"semantic_type\": \"\",\n        \"description\": \"\"\n      }\n    },\n    {\n      \"column\": \"CreditScore\",\n      \"properties\": {\n        \"dtype\": \"number\",\n        \"std\": 96,\n        \"min\": 350,\n        \"max\": 850,\n        \"num_unique_values\": 460,\n        \"samples\": [\n          754,\n          533,\n          744\n        ],\n        \"semantic_type\": \"\",\n        \"description\": \"\"\n      }\n    },\n    {\n      \"column\": \"Geography\",\n      \"properties\": {\n        \"dtype\": \"category\",\n        \"num_unique_values\": 3,\n        \"samples\": [\n          \"France\",\n          \"Spain\",\n          \"Germany\"\n        ],\n        \"semantic_type\": \"\",\n        \"description\": \"\"\n      }\n    },\n    {\n      \"column\": \"Gender\",\n      \"properties\": {\n        \"dtype\": \"category\",\n        \"num_unique_values\": 2,\n        \"samples\": [\n          \"Male\",\n          \"Female\"\n        ],\n        \"semantic_type\": \"\",\n        \"description\": \"\"\n      }\n    },\n    {\n      \"column\": \"Age\",\n      \"properties\": {\n        \"dtype\": \"number\",\n        \"std\": 10,\n        \"min\": 18,\n        \"max\": 92,\n        \"num_unique_values\": 70,\n        \"samples\": [\n          61,\n          42\n        ],\n        \"semantic_type\": \"\",\n        \"description\": \"\"\n      }\n    },\n    {\n      \"column\": \"Tenure\",\n      \"properties\": {\n        \"dtype\": \"number\",\n        \"std\": 2,\n        \"min\": 0,\n        \"max\": 10,\n        \"num_unique_values\": 11,\n        \"samples\": [\n          6,\n          2\n        ],\n        \"semantic_type\": \"\",\n        \"description\": \"\"\n      }\n    },\n    {\n      \"column\": \"Balance\",\n      \"properties\": {\n        \"dtype\": \"number\",\n        \"std\": 62397.405202385955,\n        \"min\": 0.0,\n        \"max\": 250898.09,\n        \"num_unique_values\": 6382,\n        \"samples\": [\n          117707.18,\n          133050.97\n        ],\n        \"semantic_type\": \"\",\n        \"description\": \"\"\n      }\n    },\n    {\n      \"column\": \"NumOfProducts\",\n      \"properties\": {\n        \"dtype\": \"number\",\n        \"std\": 0,\n        \"min\": 1,\n        \"max\": 4,\n        \"num_unique_values\": 4,\n        \"samples\": [\n          3,\n          4\n        ],\n        \"semantic_type\": \"\",\n        \"description\": \"\"\n      }\n    },\n    {\n      \"column\": \"HasCrCard\",\n      \"properties\": {\n        \"dtype\": \"number\",\n        \"std\": 0,\n        \"min\": 0,\n        \"max\": 1,\n        \"num_unique_values\": 2,\n        \"samples\": [\n          0,\n          1\n        ],\n        \"semantic_type\": \"\",\n        \"description\": \"\"\n      }\n    },\n    {\n      \"column\": \"IsActiveMember\",\n      \"properties\": {\n        \"dtype\": \"number\",\n        \"std\": 0,\n        \"min\": 0,\n        \"max\": 1,\n        \"num_unique_values\": 2,\n        \"samples\": [\n          0,\n          1\n        ],\n        \"semantic_type\": \"\",\n        \"description\": \"\"\n      }\n    },\n    {\n      \"column\": \"EstimatedSalary\",\n      \"properties\": {\n        \"dtype\": \"number\",\n        \"std\": 57510.49281769816,\n        \"min\": 11.58,\n        \"max\": 199992.48,\n        \"num_unique_values\": 9999,\n        \"samples\": [\n          100809.99,\n          95273.73\n        ],\n        \"semantic_type\": \"\",\n        \"description\": \"\"\n      }\n    },\n    {\n      \"column\": \"Exited\",\n      \"properties\": {\n        \"dtype\": \"number\",\n        \"std\": 0,\n        \"min\": 0,\n        \"max\": 1,\n        \"num_unique_values\": 2,\n        \"samples\": [\n          0,\n          1\n        ],\n        \"semantic_type\": \"\",\n        \"description\": \"\"\n      }\n    }\n  ]\n}"
            }
          },
          "metadata": {},
          "execution_count": 4
        }
      ]
    },
    {
      "cell_type": "markdown",
      "source": [
        "# Encode Categorical Data\n",
        "Machine learning models require numerical input, so we need to encode categorical variables. Here, we use Label Encoding for the \"Gender\" column, converting male and female to 0 and 1, respectively. For the \"Geography\" column, we apply One Hot Encoding to create binary columns for each category. This preprocessing step is crucial for converting categorical data into a format that can be provided to the model for training.\n"
      ],
      "metadata": {
        "id": "iajja2lyVYvF"
      }
    },
    {
      "cell_type": "code",
      "source": [
        "le = LabelEncoder()\n",
        "X[:, 2] = le.fit_transform(X[:, 2])"
      ],
      "metadata": {
        "id": "EHl-9fzgVb73"
      },
      "execution_count": 5,
      "outputs": []
    },
    {
      "cell_type": "code",
      "source": [
        "X.shape"
      ],
      "metadata": {
        "colab": {
          "base_uri": "https://localhost:8080/"
        },
        "id": "h2e0_Erhbdg8",
        "outputId": "4081c561-7188-4dcf-93af-575550fb345c"
      },
      "execution_count": 6,
      "outputs": [
        {
          "output_type": "execute_result",
          "data": {
            "text/plain": [
              "(10000, 10)"
            ]
          },
          "metadata": {},
          "execution_count": 6
        }
      ]
    },
    {
      "cell_type": "markdown",
      "source": [
        "# Encode the Geography field Data using OneHotEncoder()\n",
        "ColumnTransformer: This class enables the application of different transformations to different columns of a dataset within a single step. It takes the following key arguments:\n",
        "transformers: A list of triplets (name, transformer, columns) where:\n",
        "Name ('myencoder'): A user-defined identifier for the transformation step.\n",
        "Transformer (OneHotEncoder()): Specifies the transformation to apply. Here, OneHotEncoder is used to encode categorical features as a one-hot numeric array.\n",
        "Columns ([1]): Indicates the index(es) of the columns to which the transformer should be applied. In this case, it targets the column at index 1 for one-hot encoding.\n",
        "remainder='passthrough': Determines the handling of the columns not explicitly selected for transformation. Setting it to 'passthrough' means these columns will be left unchanged and appended to the output of the transformed columns.\n",
        "fit_transform: This method first fits the ColumnTransformer to the data, learning any necessary parameters (e.g., categories in a categorical column for one-hot encoding), and then transforms the data according to the specified transformations.\n",
        "np.array: Converts the output to a numpy array. This conversion is essential when dealing with sparse matrices (the default output type for many transformers like OneHotEncoder) to ensure compatibility with estimators or operations that require dense formats."
      ],
      "metadata": {
        "id": "gSwd9aQj1Bv1"
      }
    },
    {
      "cell_type": "code",
      "source": [
        "ct = ColumnTransformer(transformers=[('myencoder', OneHotEncoder(), [1])], remainder='passthrough')\n",
        "X = np.array(ct.fit_transform(X), dtype='float32')"
      ],
      "metadata": {
        "id": "hqmnt5H0bYn6"
      },
      "execution_count": 7,
      "outputs": []
    },
    {
      "cell_type": "code",
      "source": [
        "X.shape"
      ],
      "metadata": {
        "colab": {
          "base_uri": "https://localhost:8080/"
        },
        "id": "J8dRnXrNqhYB",
        "outputId": "363ccba1-6d57-46b3-a6d9-b4debfff38e1"
      },
      "execution_count": 8,
      "outputs": [
        {
          "output_type": "execute_result",
          "data": {
            "text/plain": [
              "(10000, 12)"
            ]
          },
          "metadata": {},
          "execution_count": 8
        }
      ]
    },
    {
      "cell_type": "markdown",
      "source": [
        "# Split the Dataset\n",
        "We split the dataset into training, validation, and test sets to evaluate the model's performance accurately. The training set is used to train the model, the validation set to tune hyperparameters and prevent overfitting, and the test set to evaluate the model's generalization performance on unseen data."
      ],
      "metadata": {
        "id": "EY84m6_SVdxJ"
      }
    },
    {
      "cell_type": "code",
      "source": [
        "X_train, X_temp, y_train, y_temp = train_test_split(X, y, test_size=0.4, random_state=0)\n",
        "X_val, X_test, y_val, y_test = train_test_split(X_temp, y_temp, test_size=0.5, random_state=0)"
      ],
      "metadata": {
        "id": "zRG47htfVgll"
      },
      "execution_count": 10,
      "outputs": []
    },
    {
      "cell_type": "code",
      "source": [
        "print(\"the training size is \\n\",X_train.shape)\n",
        "print(\"the validation size is \\n\",X_val.shape)\n",
        "print(\"the test size is \\n\",X_test.shape)"
      ],
      "metadata": {
        "colab": {
          "base_uri": "https://localhost:8080/"
        },
        "id": "W_2Ztles3HuB",
        "outputId": "e444ce90-6a67-4f66-a607-1fbfb44b2a68"
      },
      "execution_count": 11,
      "outputs": [
        {
          "output_type": "stream",
          "name": "stdout",
          "text": [
            "the training size is \n",
            " (6000, 12)\n",
            "the validation size is \n",
            " (2000, 12)\n",
            "the test size is \n",
            " (2000, 12)\n"
          ]
        }
      ]
    },
    {
      "cell_type": "markdown",
      "source": [
        "# Feature Scaling\n",
        "Feature scaling standardizes the range of input features, ensuring that no single feature dominates others during model training. This step improves the convergence of the model and is performed using StandardScaler, which scales features to have a mean of 0 and a variance of 1."
      ],
      "metadata": {
        "id": "1jE_ypaxVilU"
      }
    },
    {
      "cell_type": "code",
      "source": [
        "sc = StandardScaler()\n",
        "X_train = sc.fit_transform(X_train)\n",
        "X_val = sc.transform(X_val)\n",
        "X_test = sc.transform(X_test)"
      ],
      "metadata": {
        "id": "eWgEJg5zVl5Q"
      },
      "execution_count": null,
      "outputs": []
    },
    {
      "cell_type": "code",
      "source": [
        "X_train.shape[1]"
      ],
      "metadata": {
        "colab": {
          "base_uri": "https://localhost:8080/"
        },
        "id": "E2yzVDJ03N16",
        "outputId": "02a954d7-df86-420a-921e-c2ded38daff4"
      },
      "execution_count": 12,
      "outputs": [
        {
          "output_type": "execute_result",
          "data": {
            "text/plain": [
              "12"
            ]
          },
          "metadata": {},
          "execution_count": 12
        }
      ]
    },
    {
      "cell_type": "code",
      "source": [
        "X_train[:1]"
      ],
      "metadata": {
        "colab": {
          "base_uri": "https://localhost:8080/"
        },
        "id": "dNyUzhhfqFU9",
        "outputId": "69cdd1da-2d4a-4916-df3c-f497cc4c6f58"
      },
      "execution_count": 13,
      "outputs": [
        {
          "output_type": "execute_result",
          "data": {
            "text/plain": [
              "array([[0.0000000e+00, 0.0000000e+00, 1.0000000e+00, 5.7900000e+02,\n",
              "        1.0000000e+00, 4.3000000e+01, 2.0000000e+00, 1.4584381e+05,\n",
              "        1.0000000e+00, 1.0000000e+00, 1.0000000e+00, 1.9840238e+05]],\n",
              "      dtype=float32)"
            ]
          },
          "metadata": {},
          "execution_count": 13
        }
      ]
    },
    {
      "cell_type": "markdown",
      "source": [
        "# Initialize the Artificial Neural Network (ANN)\n",
        "Here, we initialize our ANN model as a sequence of layers using TensorFlow's Sequential API. We explicitly define an input layer to match the shape of our features, followed by hidden layers with ReLU activation functions for non-linearity, and finally, an output layer with a sigmoid activation function for binary classification."
      ],
      "metadata": {
        "id": "O_Fsd8LdVnlv"
      }
    },
    {
      "cell_type": "code",
      "source": [
        "ann = tf.keras.models.Sequential()\n",
        "ann.add(tf.keras.layers.Input(shape=(X_train.shape[1],)))\n",
        "ann.add(tf.keras.layers.Dense(units=6, activation='relu'))\n",
        "ann.add(tf.keras.layers.Dense(units=6, activation='relu'))\n",
        "# ann.add(tf.keras.layers.Dense(units=10, activation='relu'))\n",
        "# ann.add(tf.keras.layers.Dense(units=10, activation='relu'))\n",
        "ann.add(tf.keras.layers.Dense(units=1, activation='sigmoid'))"
      ],
      "metadata": {
        "id": "9dnIR0NIVssY"
      },
      "execution_count": 60,
      "outputs": []
    },
    {
      "cell_type": "markdown",
      "source": [
        "# Compile the ANN\n",
        "Compiling the model involves specifying the optimizer, loss function, and metrics for evaluation. We use the Adam optimizer, binary crossentropy as the loss function for binary classification, and accuracy as the metric to evaluate model performance."
      ],
      "metadata": {
        "id": "RZfZxT79VunN"
      }
    },
    {
      "cell_type": "code",
      "source": [
        "ann.compile(optimizer='adam', loss='binary_crossentropy', metrics=['accuracy'])"
      ],
      "metadata": {
        "id": "GmyfVYRRVzBo"
      },
      "execution_count": 61,
      "outputs": []
    },
    {
      "cell_type": "markdown",
      "source": [
        "# Implement Early Stopping\n",
        "Early stopping is a regularization method used to prevent overfitting by stopping the training process if the model's performance on the validation set does not improve for a specified number of epochs. This technique allows us to retain the best model without unnecessary additional training."
      ],
      "metadata": {
        "id": "cozjUraEV1hm"
      }
    },
    {
      "cell_type": "code",
      "source": [
        "early_stopping = tf.keras.callbacks.EarlyStopping(\n",
        "    monitor='val_loss',\n",
        "    patience=3,\n",
        "    min_delta=0.001,\n",
        "    restore_best_weights=True\n",
        ")"
      ],
      "metadata": {
        "id": "_RP8G46UV45L"
      },
      "execution_count": 58,
      "outputs": []
    },
    {
      "cell_type": "markdown",
      "source": [
        "# Train the ANN\n",
        "This step involves training the artificial neural network on the training data. We also validate its performance on the validation set to monitor and prevent overfitting. The `callbacks` parameter is used to implement early stopping, which halts training when the validation loss ceases to decrease, thus ensuring we don't overfit on the training data."
      ],
      "metadata": {
        "id": "Yckl4fACV6fs"
      }
    },
    {
      "cell_type": "code",
      "source": [
        "history = ann.fit(\n",
        "    X_train, y_train,\n",
        "    validation_data=(X_val, y_val),\n",
        "    batch_size=32,\n",
        "    epochs=100  # Set to a higher number since early stopping may halt training early\n",
        "    # callbacks=[early_stopping]\n",
        ")"
      ],
      "metadata": {
        "colab": {
          "base_uri": "https://localhost:8080/"
        },
        "id": "OxpO6B-BWGJK",
        "outputId": "83c4b27b-44fe-4dea-a0ef-315815d93688"
      },
      "execution_count": 62,
      "outputs": [
        {
          "output_type": "stream",
          "name": "stdout",
          "text": [
            "Epoch 1/100\n",
            "188/188 [==============================] - 2s 4ms/step - loss: 4729.6040 - accuracy: 0.7210 - val_loss: 2198.5706 - val_accuracy: 0.7945\n",
            "Epoch 2/100\n",
            "188/188 [==============================] - 1s 3ms/step - loss: 700.3154 - accuracy: 0.6942 - val_loss: 113.5598 - val_accuracy: 0.5785\n",
            "Epoch 3/100\n",
            "188/188 [==============================] - 1s 3ms/step - loss: 77.5328 - accuracy: 0.6740 - val_loss: 68.4224 - val_accuracy: 0.7945\n",
            "Epoch 4/100\n",
            "188/188 [==============================] - 1s 3ms/step - loss: 32.5992 - accuracy: 0.6858 - val_loss: 47.5452 - val_accuracy: 0.7940\n",
            "Epoch 5/100\n",
            "188/188 [==============================] - 1s 3ms/step - loss: 22.1185 - accuracy: 0.7017 - val_loss: 25.3758 - val_accuracy: 0.7065\n",
            "Epoch 6/100\n",
            "188/188 [==============================] - 1s 3ms/step - loss: 16.7591 - accuracy: 0.6975 - val_loss: 27.4773 - val_accuracy: 0.4320\n",
            "Epoch 7/100\n",
            "188/188 [==============================] - 1s 3ms/step - loss: 18.2963 - accuracy: 0.6815 - val_loss: 7.1731 - val_accuracy: 0.7510\n",
            "Epoch 8/100\n",
            "188/188 [==============================] - 1s 3ms/step - loss: 14.5993 - accuracy: 0.6810 - val_loss: 34.2148 - val_accuracy: 0.7930\n",
            "Epoch 9/100\n",
            "188/188 [==============================] - 1s 3ms/step - loss: 16.3186 - accuracy: 0.6820 - val_loss: 18.8605 - val_accuracy: 0.4280\n",
            "Epoch 10/100\n",
            "188/188 [==============================] - 1s 3ms/step - loss: 11.5063 - accuracy: 0.6795 - val_loss: 10.8727 - val_accuracy: 0.7915\n",
            "Epoch 11/100\n",
            "188/188 [==============================] - 1s 3ms/step - loss: 12.3545 - accuracy: 0.6815 - val_loss: 13.7327 - val_accuracy: 0.2615\n",
            "Epoch 12/100\n",
            "188/188 [==============================] - 1s 4ms/step - loss: 12.8832 - accuracy: 0.6787 - val_loss: 7.9375 - val_accuracy: 0.7825\n",
            "Epoch 13/100\n",
            "188/188 [==============================] - 1s 4ms/step - loss: 15.3190 - accuracy: 0.6760 - val_loss: 9.6370 - val_accuracy: 0.4855\n",
            "Epoch 14/100\n",
            "188/188 [==============================] - 1s 3ms/step - loss: 11.7147 - accuracy: 0.6898 - val_loss: 7.9084 - val_accuracy: 0.7895\n",
            "Epoch 15/100\n",
            "188/188 [==============================] - 1s 3ms/step - loss: 12.9720 - accuracy: 0.6833 - val_loss: 12.2070 - val_accuracy: 0.5420\n",
            "Epoch 16/100\n",
            "188/188 [==============================] - 1s 3ms/step - loss: 10.3423 - accuracy: 0.6853 - val_loss: 6.9920 - val_accuracy: 0.2605\n",
            "Epoch 17/100\n",
            "188/188 [==============================] - 1s 3ms/step - loss: 11.9453 - accuracy: 0.6770 - val_loss: 14.3524 - val_accuracy: 0.7920\n",
            "Epoch 18/100\n",
            "188/188 [==============================] - 1s 3ms/step - loss: 14.2218 - accuracy: 0.6778 - val_loss: 12.6966 - val_accuracy: 0.7915\n",
            "Epoch 19/100\n",
            "188/188 [==============================] - 1s 3ms/step - loss: 15.3480 - accuracy: 0.6828 - val_loss: 4.1705 - val_accuracy: 0.7910\n",
            "Epoch 20/100\n",
            "188/188 [==============================] - 1s 3ms/step - loss: 16.4945 - accuracy: 0.6685 - val_loss: 5.4037 - val_accuracy: 0.7900\n",
            "Epoch 21/100\n",
            "188/188 [==============================] - 1s 3ms/step - loss: 12.1427 - accuracy: 0.6792 - val_loss: 14.5106 - val_accuracy: 0.2255\n",
            "Epoch 22/100\n",
            "188/188 [==============================] - 1s 3ms/step - loss: 16.4724 - accuracy: 0.6863 - val_loss: 21.3336 - val_accuracy: 0.7945\n",
            "Epoch 23/100\n",
            "188/188 [==============================] - 1s 3ms/step - loss: 10.1495 - accuracy: 0.6858 - val_loss: 6.2599 - val_accuracy: 0.7875\n",
            "Epoch 24/100\n",
            "188/188 [==============================] - 1s 3ms/step - loss: 11.1230 - accuracy: 0.6847 - val_loss: 5.6512 - val_accuracy: 0.7885\n",
            "Epoch 25/100\n",
            "188/188 [==============================] - 1s 3ms/step - loss: 11.3807 - accuracy: 0.6887 - val_loss: 6.8548 - val_accuracy: 0.7925\n",
            "Epoch 26/100\n",
            "188/188 [==============================] - 1s 3ms/step - loss: 12.7941 - accuracy: 0.6853 - val_loss: 16.0148 - val_accuracy: 0.5510\n",
            "Epoch 27/100\n",
            "188/188 [==============================] - 1s 3ms/step - loss: 11.1048 - accuracy: 0.6792 - val_loss: 9.8310 - val_accuracy: 0.7925\n",
            "Epoch 28/100\n",
            "188/188 [==============================] - 1s 3ms/step - loss: 9.6992 - accuracy: 0.6750 - val_loss: 12.7456 - val_accuracy: 0.7945\n",
            "Epoch 29/100\n",
            "188/188 [==============================] - 1s 3ms/step - loss: 9.5831 - accuracy: 0.6807 - val_loss: 3.2792 - val_accuracy: 0.7865\n",
            "Epoch 30/100\n",
            "188/188 [==============================] - 1s 3ms/step - loss: 11.7271 - accuracy: 0.6840 - val_loss: 17.0259 - val_accuracy: 0.7945\n",
            "Epoch 31/100\n",
            "188/188 [==============================] - 1s 3ms/step - loss: 11.1628 - accuracy: 0.6777 - val_loss: 3.6037 - val_accuracy: 0.4635\n",
            "Epoch 32/100\n",
            "188/188 [==============================] - 1s 4ms/step - loss: 9.3309 - accuracy: 0.6805 - val_loss: 5.4589 - val_accuracy: 0.5590\n",
            "Epoch 33/100\n",
            "188/188 [==============================] - 1s 3ms/step - loss: 8.0320 - accuracy: 0.6775 - val_loss: 9.3583 - val_accuracy: 0.7950\n",
            "Epoch 34/100\n",
            "188/188 [==============================] - 1s 3ms/step - loss: 9.9853 - accuracy: 0.6840 - val_loss: 16.9782 - val_accuracy: 0.7960\n",
            "Epoch 35/100\n",
            "188/188 [==============================] - 1s 3ms/step - loss: 7.8523 - accuracy: 0.6698 - val_loss: 10.1069 - val_accuracy: 0.7950\n",
            "Epoch 36/100\n",
            "188/188 [==============================] - 1s 3ms/step - loss: 8.0902 - accuracy: 0.6747 - val_loss: 12.2677 - val_accuracy: 0.7950\n",
            "Epoch 37/100\n",
            "188/188 [==============================] - 1s 3ms/step - loss: 10.6347 - accuracy: 0.6763 - val_loss: 16.9315 - val_accuracy: 0.2150\n",
            "Epoch 38/100\n",
            "188/188 [==============================] - 1s 3ms/step - loss: 7.3848 - accuracy: 0.6747 - val_loss: 3.9110 - val_accuracy: 0.7890\n",
            "Epoch 39/100\n",
            "188/188 [==============================] - 1s 3ms/step - loss: 6.9747 - accuracy: 0.6805 - val_loss: 2.8368 - val_accuracy: 0.7835\n",
            "Epoch 40/100\n",
            "188/188 [==============================] - 1s 3ms/step - loss: 7.6055 - accuracy: 0.6782 - val_loss: 7.8736 - val_accuracy: 0.5605\n",
            "Epoch 41/100\n",
            "188/188 [==============================] - 1s 3ms/step - loss: 6.9922 - accuracy: 0.6777 - val_loss: 11.4037 - val_accuracy: 0.2180\n",
            "Epoch 42/100\n",
            "188/188 [==============================] - 1s 3ms/step - loss: 7.8738 - accuracy: 0.6820 - val_loss: 2.6755 - val_accuracy: 0.7845\n",
            "Epoch 43/100\n",
            "188/188 [==============================] - 1s 3ms/step - loss: 6.1779 - accuracy: 0.6923 - val_loss: 8.6549 - val_accuracy: 0.7895\n",
            "Epoch 44/100\n",
            "188/188 [==============================] - 1s 3ms/step - loss: 7.0169 - accuracy: 0.6923 - val_loss: 10.4587 - val_accuracy: 0.7905\n",
            "Epoch 45/100\n",
            "188/188 [==============================] - 1s 3ms/step - loss: 6.6563 - accuracy: 0.7028 - val_loss: 2.6760 - val_accuracy: 0.6975\n",
            "Epoch 46/100\n",
            "188/188 [==============================] - 1s 3ms/step - loss: 4.9636 - accuracy: 0.6958 - val_loss: 2.2936 - val_accuracy: 0.5880\n",
            "Epoch 47/100\n",
            "188/188 [==============================] - 1s 3ms/step - loss: 5.7843 - accuracy: 0.6957 - val_loss: 4.2752 - val_accuracy: 0.5510\n",
            "Epoch 48/100\n",
            "188/188 [==============================] - 1s 3ms/step - loss: 7.1631 - accuracy: 0.7018 - val_loss: 6.4612 - val_accuracy: 0.7950\n",
            "Epoch 49/100\n",
            "188/188 [==============================] - 1s 3ms/step - loss: 4.8722 - accuracy: 0.7123 - val_loss: 9.5877 - val_accuracy: 0.3215\n",
            "Epoch 50/100\n",
            "188/188 [==============================] - 1s 4ms/step - loss: 7.2151 - accuracy: 0.7115 - val_loss: 15.2492 - val_accuracy: 0.7950\n",
            "Epoch 51/100\n",
            "188/188 [==============================] - 1s 4ms/step - loss: 6.9173 - accuracy: 0.7127 - val_loss: 8.0923 - val_accuracy: 0.7950\n",
            "Epoch 52/100\n",
            "188/188 [==============================] - 1s 3ms/step - loss: 5.7827 - accuracy: 0.7120 - val_loss: 4.7539 - val_accuracy: 0.7950\n",
            "Epoch 53/100\n",
            "188/188 [==============================] - 1s 3ms/step - loss: 4.1640 - accuracy: 0.7332 - val_loss: 8.8328 - val_accuracy: 0.6220\n",
            "Epoch 54/100\n",
            "188/188 [==============================] - 1s 3ms/step - loss: 6.1089 - accuracy: 0.7302 - val_loss: 9.5953 - val_accuracy: 0.7950\n",
            "Epoch 55/100\n",
            "188/188 [==============================] - 1s 3ms/step - loss: 5.7011 - accuracy: 0.7275 - val_loss: 1.1384 - val_accuracy: 0.6810\n",
            "Epoch 56/100\n",
            "188/188 [==============================] - 1s 3ms/step - loss: 5.1904 - accuracy: 0.7332 - val_loss: 3.3867 - val_accuracy: 0.7925\n",
            "Epoch 57/100\n",
            "188/188 [==============================] - 1s 3ms/step - loss: 4.4386 - accuracy: 0.7435 - val_loss: 3.7391 - val_accuracy: 0.5035\n",
            "Epoch 58/100\n",
            "188/188 [==============================] - 1s 3ms/step - loss: 6.7177 - accuracy: 0.7400 - val_loss: 10.8464 - val_accuracy: 0.7950\n",
            "Epoch 59/100\n",
            "188/188 [==============================] - 1s 3ms/step - loss: 4.5962 - accuracy: 0.7533 - val_loss: 2.5451 - val_accuracy: 0.7275\n",
            "Epoch 60/100\n",
            "188/188 [==============================] - 1s 3ms/step - loss: 4.2343 - accuracy: 0.7527 - val_loss: 5.8231 - val_accuracy: 0.5525\n",
            "Epoch 61/100\n",
            "188/188 [==============================] - 1s 4ms/step - loss: 4.2516 - accuracy: 0.7502 - val_loss: 1.7409 - val_accuracy: 0.7925\n",
            "Epoch 62/100\n",
            "188/188 [==============================] - 1s 3ms/step - loss: 3.8912 - accuracy: 0.7568 - val_loss: 2.3225 - val_accuracy: 0.7925\n",
            "Epoch 63/100\n",
            "188/188 [==============================] - 1s 3ms/step - loss: 3.5002 - accuracy: 0.7533 - val_loss: 2.6840 - val_accuracy: 0.7930\n",
            "Epoch 64/100\n",
            "188/188 [==============================] - 1s 3ms/step - loss: 4.4876 - accuracy: 0.7590 - val_loss: 4.5696 - val_accuracy: 0.7950\n",
            "Epoch 65/100\n",
            "188/188 [==============================] - 1s 3ms/step - loss: 4.2566 - accuracy: 0.7562 - val_loss: 11.6387 - val_accuracy: 0.7950\n",
            "Epoch 66/100\n",
            "188/188 [==============================] - 1s 3ms/step - loss: 4.4073 - accuracy: 0.7553 - val_loss: 3.4772 - val_accuracy: 0.7950\n",
            "Epoch 67/100\n",
            "188/188 [==============================] - 1s 3ms/step - loss: 4.6750 - accuracy: 0.7608 - val_loss: 4.1400 - val_accuracy: 0.7950\n",
            "Epoch 68/100\n",
            "188/188 [==============================] - 1s 3ms/step - loss: 2.7094 - accuracy: 0.7618 - val_loss: 2.5658 - val_accuracy: 0.7950\n",
            "Epoch 69/100\n",
            "188/188 [==============================] - 1s 3ms/step - loss: 2.9015 - accuracy: 0.7617 - val_loss: 0.6280 - val_accuracy: 0.7840\n",
            "Epoch 70/100\n",
            "188/188 [==============================] - 1s 3ms/step - loss: 2.6265 - accuracy: 0.7610 - val_loss: 5.0938 - val_accuracy: 0.7950\n",
            "Epoch 71/100\n",
            "188/188 [==============================] - 1s 3ms/step - loss: 3.6793 - accuracy: 0.7617 - val_loss: 2.2016 - val_accuracy: 0.5860\n",
            "Epoch 72/100\n",
            "188/188 [==============================] - 1s 3ms/step - loss: 1.8753 - accuracy: 0.7665 - val_loss: 1.1064 - val_accuracy: 0.7955\n",
            "Epoch 73/100\n",
            "188/188 [==============================] - 1s 3ms/step - loss: 2.9300 - accuracy: 0.7647 - val_loss: 3.8288 - val_accuracy: 0.7950\n",
            "Epoch 74/100\n",
            "188/188 [==============================] - 1s 3ms/step - loss: 3.2242 - accuracy: 0.7623 - val_loss: 1.4343 - val_accuracy: 0.7940\n",
            "Epoch 75/100\n",
            "188/188 [==============================] - 1s 3ms/step - loss: 2.6014 - accuracy: 0.7643 - val_loss: 2.3492 - val_accuracy: 0.5795\n",
            "Epoch 76/100\n",
            "188/188 [==============================] - 1s 3ms/step - loss: 2.1498 - accuracy: 0.7647 - val_loss: 1.5346 - val_accuracy: 0.7910\n",
            "Epoch 77/100\n",
            "188/188 [==============================] - 1s 3ms/step - loss: 3.4653 - accuracy: 0.7588 - val_loss: 2.0923 - val_accuracy: 0.7930\n",
            "Epoch 78/100\n",
            "188/188 [==============================] - 1s 3ms/step - loss: 1.8554 - accuracy: 0.7672 - val_loss: 2.5507 - val_accuracy: 0.7950\n",
            "Epoch 79/100\n",
            "188/188 [==============================] - 1s 3ms/step - loss: 1.5866 - accuracy: 0.7650 - val_loss: 5.3073 - val_accuracy: 0.7950\n",
            "Epoch 80/100\n",
            "188/188 [==============================] - 1s 3ms/step - loss: 2.1712 - accuracy: 0.7665 - val_loss: 1.3451 - val_accuracy: 0.7950\n",
            "Epoch 81/100\n",
            "188/188 [==============================] - 1s 3ms/step - loss: 1.9310 - accuracy: 0.7608 - val_loss: 0.5560 - val_accuracy: 0.7950\n",
            "Epoch 82/100\n",
            "188/188 [==============================] - 1s 3ms/step - loss: 2.2604 - accuracy: 0.7632 - val_loss: 0.7109 - val_accuracy: 0.7950\n",
            "Epoch 83/100\n",
            "188/188 [==============================] - 1s 3ms/step - loss: 2.7898 - accuracy: 0.7633 - val_loss: 2.7482 - val_accuracy: 0.7950\n",
            "Epoch 84/100\n",
            "188/188 [==============================] - 1s 3ms/step - loss: 1.3565 - accuracy: 0.7683 - val_loss: 0.5853 - val_accuracy: 0.7950\n",
            "Epoch 85/100\n",
            "188/188 [==============================] - 1s 3ms/step - loss: 1.0123 - accuracy: 0.7718 - val_loss: 0.5471 - val_accuracy: 0.7950\n",
            "Epoch 86/100\n",
            "188/188 [==============================] - 1s 3ms/step - loss: 1.2756 - accuracy: 0.7717 - val_loss: 1.0048 - val_accuracy: 0.7950\n",
            "Epoch 87/100\n",
            "188/188 [==============================] - 1s 4ms/step - loss: 0.9673 - accuracy: 0.7718 - val_loss: 0.8072 - val_accuracy: 0.7950\n",
            "Epoch 88/100\n",
            "188/188 [==============================] - 1s 3ms/step - loss: 0.8729 - accuracy: 0.7753 - val_loss: 0.7160 - val_accuracy: 0.7950\n",
            "Epoch 89/100\n",
            "188/188 [==============================] - 1s 3ms/step - loss: 0.8006 - accuracy: 0.7772 - val_loss: 1.3135 - val_accuracy: 0.7950\n",
            "Epoch 90/100\n",
            "188/188 [==============================] - 1s 3ms/step - loss: 0.7422 - accuracy: 0.7747 - val_loss: 0.5202 - val_accuracy: 0.7950\n",
            "Epoch 91/100\n",
            "188/188 [==============================] - 1s 3ms/step - loss: 0.9387 - accuracy: 0.7728 - val_loss: 1.6068 - val_accuracy: 0.5960\n",
            "Epoch 92/100\n",
            "188/188 [==============================] - 1s 3ms/step - loss: 0.8944 - accuracy: 0.7727 - val_loss: 0.5076 - val_accuracy: 0.7950\n",
            "Epoch 93/100\n",
            "188/188 [==============================] - 1s 3ms/step - loss: 0.5761 - accuracy: 0.7883 - val_loss: 0.7210 - val_accuracy: 0.6530\n",
            "Epoch 94/100\n",
            "188/188 [==============================] - 1s 3ms/step - loss: 0.6107 - accuracy: 0.7795 - val_loss: 0.8186 - val_accuracy: 0.7950\n",
            "Epoch 95/100\n",
            "188/188 [==============================] - 1s 3ms/step - loss: 0.5697 - accuracy: 0.7908 - val_loss: 0.5143 - val_accuracy: 0.7950\n",
            "Epoch 96/100\n",
            "188/188 [==============================] - 1s 3ms/step - loss: 0.5450 - accuracy: 0.7875 - val_loss: 0.5153 - val_accuracy: 0.7950\n",
            "Epoch 97/100\n",
            "188/188 [==============================] - 1s 3ms/step - loss: 0.5292 - accuracy: 0.7915 - val_loss: 0.5495 - val_accuracy: 0.7950\n",
            "Epoch 98/100\n",
            "188/188 [==============================] - 1s 3ms/step - loss: 0.5125 - accuracy: 0.7957 - val_loss: 0.5080 - val_accuracy: 0.7950\n",
            "Epoch 99/100\n",
            "188/188 [==============================] - 1s 3ms/step - loss: 0.6153 - accuracy: 0.7935 - val_loss: 0.5109 - val_accuracy: 0.7950\n",
            "Epoch 100/100\n",
            "188/188 [==============================] - 1s 3ms/step - loss: 0.5716 - accuracy: 0.7878 - val_loss: 0.6382 - val_accuracy: 0.7950\n"
          ]
        }
      ]
    },
    {
      "cell_type": "code",
      "source": [
        "#test_loss, test_accuracy = ann.evaluate(X_test, y_test, verbose=0)"
      ],
      "metadata": {
        "id": "yCZBe6-ZWmDR"
      },
      "execution_count": null,
      "outputs": []
    },
    {
      "cell_type": "markdown",
      "source": [
        "# Predicting the Test Set Results\n",
        "After training the model, we use it to predict the outcomes on the test set. This step evaluates the model's performance on data it hasn't seen during training, providing insight into how well the model generalizes to new, unseen data."
      ],
      "metadata": {
        "id": "yhNp8oLpWJ9p"
      }
    },
    {
      "cell_type": "code",
      "source": [
        "y_pred = ann.predict(X_test)\n",
        "y_pred_labels = (y_pred > 0.5)\n",
        "test_accuracy = accuracy_score(y_test, y_pred_labels)"
      ],
      "metadata": {
        "colab": {
          "base_uri": "https://localhost:8080/"
        },
        "id": "lurY0nLyWNqK",
        "outputId": "0601a7a7-b98b-499f-8a8a-88ad3226c581"
      },
      "execution_count": 49,
      "outputs": [
        {
          "output_type": "stream",
          "name": "stdout",
          "text": [
            "63/63 [==============================] - 0s 1ms/step\n"
          ]
        }
      ]
    },
    {
      "cell_type": "code",
      "source": [
        "# Check if early stopping was triggered\n",
        "if early_stopping.stopped_epoch > 0:\n",
        "    best_epoch = early_stopping.stopped_epoch - early_stopping.patience\n",
        "else:\n",
        "    best_epoch = len(history.history['loss']) - 1  # Use the last epoch as the best one\n",
        "\n",
        "# Print the metrics\n",
        "print('Training Loss', history.history['loss'][best_epoch])\n",
        "print('Validation Loss', history.history['val_loss'][best_epoch])\n",
        "print('Training Accuracy', history.history['accuracy'][best_epoch])\n",
        "print('Validation Accuracy', history.history['val_accuracy'][best_epoch])\n",
        "print('Test Accuracy', test_accuracy)\n",
        "print('Epoch Stopped', best_epoch + 1)  # epochs are zero-indexed, but we report them starting from 1\n"
      ],
      "metadata": {
        "colab": {
          "base_uri": "https://localhost:8080/"
        },
        "id": "fpITBFFg3c_g",
        "outputId": "af1343d2-460f-4b15-a0c9-81d0e4b8d179"
      },
      "execution_count": 50,
      "outputs": [
        {
          "output_type": "stream",
          "name": "stdout",
          "text": [
            "Training Loss 0.5066229104995728\n",
            "Validation Loss 0.5087746977806091\n",
            "Training Accuracy 0.7985000014305115\n",
            "Validation Accuracy 0.7950000166893005\n",
            "Test Accuracy 0.791\n",
            "Epoch Stopped 4\n"
          ]
        }
      ]
    },
    {
      "cell_type": "markdown",
      "source": [
        "# Making the Confusion Matrix\n",
        "The confusion matrix is a tool used to visualize the performance of an algorithm. It shows the number of correct and incorrect predictions made by the model, categorized by the actual classifications. This, along with the accuracy score, gives us a clear picture of the model's performance."
      ],
      "metadata": {
        "id": "wXaOv989WRYN"
      }
    },
    {
      "cell_type": "code",
      "source": [
        "cm = confusion_matrix(y_test, y_pred_labels)\n",
        "print(cm)\n"
      ],
      "metadata": {
        "id": "WICOBo64WTIR",
        "colab": {
          "base_uri": "https://localhost:8080/"
        },
        "outputId": "f14a98ee-3d43-4d25-8986-e378883d189e"
      },
      "execution_count": 51,
      "outputs": [
        {
          "output_type": "stream",
          "name": "stdout",
          "text": [
            "[[1582    0]\n",
            " [ 418    0]]\n"
          ]
        }
      ]
    },
    {
      "cell_type": "markdown",
      "source": [
        "#Printing Model Parameters"
      ],
      "metadata": {
        "id": "Yl7GsSqMT7vD"
      }
    },
    {
      "cell_type": "code",
      "source": [
        "# Print out the weights and biases of each layer\n",
        "for layer in ann.layers:\n",
        "    weights, biases = layer.get_weights()\n",
        "    print(f\"Weights for layer {layer.name}: {weights}\")\n",
        "    print(f\"Biases for layer {layer.name}: {biases}\")"
      ],
      "metadata": {
        "colab": {
          "base_uri": "https://localhost:8080/"
        },
        "id": "LFWgz4sa8C8c",
        "outputId": "e57659c0-2bbd-439f-8ec6-e0f42b470932"
      },
      "execution_count": 23,
      "outputs": [
        {
          "output_type": "stream",
          "name": "stdout",
          "text": [
            "Weights for layer dense: [[ 0.44241348  0.46438515 -0.44262585 -0.6423238   0.31876346 -0.26390964]\n",
            " [ 0.34705424  0.47720385  0.2715513  -0.30750546 -0.1180999  -0.2894307 ]\n",
            " [ 0.05453467 -0.11675188  0.40077817 -0.19317496  0.72207475  0.41854733]\n",
            " [-0.11482644 -0.2765726  -0.72417873 -0.67555094  0.38178688  0.02101201]\n",
            " [-0.08434652 -0.15316856 -0.02128634 -0.29849657  0.02350819  0.25590318]\n",
            " [ 0.00609593  0.5352658  -0.307942   -0.44285166  0.3828317  -0.07622343]\n",
            " [-0.02312111 -0.18431157 -0.51276577 -0.17643352 -0.25606194  0.13397932]\n",
            " [ 0.34235474 -0.03864253  0.33362332 -0.47756657 -0.10920116 -0.30895662]\n",
            " [ 0.37952492  0.24057364 -0.26717928  0.35286325  0.3192139   0.22249514]\n",
            " [ 0.06925144  0.3424397   0.12583499 -0.11870202 -0.58651555  0.39260578]\n",
            " [ 0.321261    0.49299634  0.29937458 -0.6967447   0.58589077  0.3239138 ]\n",
            " [-0.43793577 -0.5625649  -0.4133651   0.24492112 -0.3809059  -0.2849496 ]]\n",
            "Biases for layer dense: [-0.12323435  0.         -0.14817764 -0.22396067 -0.08332991  0.        ]\n",
            "Weights for layer dense_1: [[ 0.08456095 -0.46903455 -0.16234367 -0.17737077  0.11201012 -0.02099097]\n",
            " [ 0.6247081  -0.4818418  -0.64181423  0.00489223 -0.5189017   0.2991684 ]\n",
            " [-0.0913394  -0.12839884  0.01657889 -0.00488912 -0.64062905 -0.32784718]\n",
            " [-0.00598268 -0.6429986  -0.00350812 -0.35361484 -0.0047444  -0.05844698]\n",
            " [ 0.00086787 -0.13456881 -0.6913685   0.02794653  0.11745469  0.17626894]\n",
            " [ 0.38618737 -0.3127743  -0.44871658  0.39933604  0.00733256 -0.68581367]]\n",
            "Biases for layer dense_1: [-0.21360466  0.         -0.57088345 -0.13166356 -0.23950154 -0.10435135]\n",
            "Weights for layer dense_2: [[-0.77655035]\n",
            " [ 0.35488904]\n",
            " [-0.30155495]\n",
            " [-0.7866736 ]\n",
            " [-0.64895505]\n",
            " [-0.275055  ]]\n",
            "Biases for layer dense_2: [-1.3131005]\n"
          ]
        }
      ]
    },
    {
      "cell_type": "markdown",
      "source": [
        "#Save the Model"
      ],
      "metadata": {
        "id": "IeHuMIydUGXQ"
      }
    },
    {
      "cell_type": "code",
      "source": [
        "ann.save('model_representation.keras')"
      ],
      "metadata": {
        "id": "9fgdIF-GjUve"
      },
      "execution_count": 24,
      "outputs": []
    },
    {
      "cell_type": "markdown",
      "source": [
        "Plot Model Training and Validation Loss"
      ],
      "metadata": {
        "id": "1nzjkGCiUPKF"
      }
    },
    {
      "cell_type": "code",
      "source": [
        "import matplotlib.pyplot as plt\n",
        "\n",
        "# Plot training & validation loss values\n",
        "plt.plot(history.history['loss'])\n",
        "plt.plot(history.history['val_loss'])\n",
        "plt.title('Model loss')\n",
        "plt.ylabel('Loss')\n",
        "plt.xlabel('Epoch')\n",
        "plt.legend(['Train', 'Validation'], loc='upper left')\n",
        "plt.show()\n"
      ],
      "metadata": {
        "colab": {
          "base_uri": "https://localhost:8080/",
          "height": 472
        },
        "id": "jkkYIBoFApFm",
        "outputId": "6bad3ef3-45db-43cd-c897-3f596fdde248"
      },
      "execution_count": 25,
      "outputs": [
        {
          "output_type": "display_data",
          "data": {
            "text/plain": [
              "<Figure size 640x480 with 1 Axes>"
            ],
            "image/png": "[encoded data removed]"
          },
          "metadata": {}
        }
      ]
    }
  ]
}
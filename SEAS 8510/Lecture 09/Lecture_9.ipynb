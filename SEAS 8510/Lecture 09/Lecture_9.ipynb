{
  "nbformat": 4,
  "nbformat_minor": 0,
  "metadata": {
    "colab": {
      "provenance": []
    },
    "kernelspec": {
      "name": "python3",
      "display_name": "Python 3"
    },
    "language_info": {
      "name": "python"
    }
  },
  "cells": [
    {
      "cell_type": "code",
      "execution_count": null,
      "metadata": {
        "colab": {
          "base_uri": "https://localhost:8080/"
        },
        "id": "L8jhohBRT5mQ",
        "outputId": "028bf0b9-4d58-4225-a040-1e6ff119478e"
      },
      "outputs": [
        {
          "output_type": "execute_result",
          "data": {
            "text/plain": [
              "(10.301275604009799, 2.7934158896131296e-06)"
            ]
          },
          "metadata": {},
          "execution_count": 1
        }
      ],
      "source": [
        "from scipy.stats import ttest_rel\n",
        "pre_test_scores = [70, 75, 65, 80, 85, 68, 90, 85, 88, 70]\n",
        "post_test_scores = [75, 80, 68, 83, 88, 73, 93, 90, 90, 75]\n",
        "t_statistic, p_value = ttest_rel(post_test_scores, pre_test_scores)\n",
        "t_statistic, p_value"
      ]
    },
    {
      "cell_type": "code",
      "source": [
        "from scipy.stats import ttest_ind\n",
        "churned = [10, 12, 9, 11, 8, 15, 7, 6, 9, 10]\n",
        "not_churned = [20, 22, 19, 25, 24, 21, 23, 26, 22, 20]\n",
        "t_statistic, p_value = ttest_ind(churned, not_churned)\n",
        "t_statistic, p_value"
      ],
      "metadata": {
        "colab": {
          "base_uri": "https://localhost:8080/"
        },
        "id": "5LUD4tVPdpzd",
        "outputId": "4681666d-d372-4164-c29f-07e7f9772b79"
      },
      "execution_count": null,
      "outputs": [
        {
          "output_type": "execute_result",
          "data": {
            "text/plain": [
              "(-11.426768162550097, 1.1051347301945896e-09)"
            ]
          },
          "metadata": {},
          "execution_count": 2
        }
      ]
    },
    {
      "cell_type": "code",
      "source": [
        "import pandas as pd\n",
        "data = {'Neighborhood':['Downtown','Downtown','Downtown','Downtown','Downtown','Downtown','Downtown','Suburb','Suburb','Suburb','Suburb','Suburb','Suburb','Suburb','Countryside','Countryside','Countryside','Countryside','Countryside','Countryside','Countryside',],\n",
        "'Type': ['Single-Family', 'Townhouse', 'Apartment', 'Single-Family','Townhouse', 'Apartment', 'Single-Family', 'Townhouse', 'Apartment', 'Single-Family', 'Townhouse', 'Apartment','Single-Family', 'Townhouse','Apartment','Single-Family', 'Townhouse', 'Apartment', 'Single-Family','Townhouse', 'Apartment'],\n",
        "'Price':[500000,520000,490000,410000,480000,560000,470000,510000,400000,\n",
        "420000,380000,430000,450000,390000,410000,407000,399000,370000,320000,290000,\n",
        "340000]}\n",
        "df = pd.DataFrame(data)\n",
        "\n",
        "from scipy.stats import f_oneway\n",
        "anova_neighborhoods = f_oneway(df[df['Neighborhood'] == 'Downtown']['Price'],\n",
        "df[df['Neighborhood'] == 'Suburb']['Price'],\n",
        "df[df['Neighborhood'] == 'Countryside']['Price'])\n",
        "print(\"ANOVA results for Neighborhoods are \", anova_neighborhoods)\n",
        "anova_Types = f_oneway(df[df['Type'] == 'Single-Family']['Price'],\n",
        "df[df['Type'] == 'Townhouse']['Price'],\n",
        "df[df['Type'] == 'Apartment']['Price'])\n",
        "print(\"ANOVA results for house Type are \", anova_Types)\n",
        "from statsmodels.stats.multicomp import pairwise_tukeyhsd\n",
        "tukey = pairwise_tukeyhsd(endog=df['Price'], # Data\n",
        "groups=df['Neighborhood'], # Groups\n",
        "alpha=0.05) # Significance level\n",
        "tukey_results = tukey.summary() # Summary of test results\n",
        "print(\"Tukey HSD results for Neighborhoods are \", tukey_results)\n",
        "\n",
        "from statsmodels.stats.multicomp import pairwise_tukeyhsd\n",
        "tukey = pairwise_tukeyhsd(endog=df['Price'], # Data\n",
        "groups=df['Type'], # Groups\n",
        "alpha=0.05) # Significance level\n",
        "tukey_results = tukey.summary() # Summary of test results\n",
        "print(\"Tukey HSD results for Types are \", tukey_results)"
      ],
      "metadata": {
        "colab": {
          "base_uri": "https://localhost:8080/"
        },
        "id": "Gffz8gv4eqyM",
        "outputId": "c41d0ac1-7ba2-4212-9951-c75e79777a63"
      },
      "execution_count": 1,
      "outputs": [
        {
          "output_type": "stream",
          "name": "stdout",
          "text": [
            "ANOVA results for Neighborhoods are  F_onewayResult(statistic=13.605301981433989, pvalue=0.0002513562955021209)\n",
            "ANOVA results for house Type are  F_onewayResult(statistic=0.007026798902722093, pvalue=0.9930005538091575)\n",
            "Tukey HSD results for Neighborhoods are            Multiple Comparison of Means - Tukey HSD, FWER=0.05          \n",
            "=======================================================================\n",
            "   group1    group2    meandiff  p-adj     lower        upper    reject\n",
            "-----------------------------------------------------------------------\n",
            "Countryside Downtown 127714.2857 0.0002   65228.3766 190200.1948   True\n",
            "Countryside   Suburb  63428.5714 0.0463     942.6623 125914.4805   True\n",
            "   Downtown   Suburb -64285.7143 0.0432 -126771.6234  -1799.8052   True\n",
            "-----------------------------------------------------------------------\n",
            "Tukey HSD results for Types are              Multiple Comparison of Means - Tukey HSD, FWER=0.05             \n",
            "============================================================================\n",
            "    group1        group2     meandiff  p-adj     lower       upper    reject\n",
            "----------------------------------------------------------------------------\n",
            "    Apartment Single-Family -3285.7143 0.9961  -102276.899 95705.4704  False\n",
            "    Apartment     Townhouse -4428.5714 0.9928 -103419.7561 94562.6133  False\n",
            "Single-Family     Townhouse -1142.8571 0.9995 -100134.0418 97848.3276  False\n",
            "----------------------------------------------------------------------------\n"
          ]
        }
      ]
    }
  ]
}
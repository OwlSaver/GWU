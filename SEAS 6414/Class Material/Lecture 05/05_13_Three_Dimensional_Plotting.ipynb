{
 "cells": [
  {
   "cell_type": "markdown",
   "metadata": {
    "id": "-FQyMKXA9KXh"
   },
   "source": [
    "# Three-Dimensional Plotting in Matplotlib"
   ]
  },
  {
   "cell_type": "markdown",
   "metadata": {
    "id": "WFbL8xZ99KXj"
   },
   "source": [
    "Matplotlib was initially designed with only two-dimensional plotting in mind.\n",
    "Around the time of the 1.0 release, some three-dimensional plotting utilities were built on top of Matplotlib's two-dimensional display, and the result is a convenient (if somewhat limited) set of tools for three-dimensional data visualization.\n",
    "Three-dimensional plots are enabled by importing the `mplot3d` toolkit, included with the main Matplotlib installation:"
   ]
  },
  {
   "cell_type": "code",
   "execution_count": null,
   "metadata": {
    "collapsed": false,
    "id": "kqYYA3dI9KXj",
    "jupyter": {
     "outputs_hidden": false
    }
   },
   "outputs": [],
   "source": [
    "from mpl_toolkits import mplot3d"
   ]
  },
  {
   "cell_type": "markdown",
   "metadata": {
    "id": "9JJATLPF9KXk"
   },
   "source": [
    "Once this submodule is imported, a three-dimensional axes can be created by passing the keyword `projection='3d'` to any of the normal axes creation routines, as shown here (see the following figure):"
   ]
  },
  {
   "cell_type": "code",
   "execution_count": null,
   "metadata": {
    "id": "gCIolk6z9KXk",
    "tags": []
   },
   "outputs": [],
   "source": [
    "%matplotlib inline\n",
    "import numpy as np\n",
    "import matplotlib.pyplot as plt"
   ]
  },
  {
   "cell_type": "code",
   "execution_count": null,
   "metadata": {
    "collapsed": false,
    "id": "2ecCLbob9KXk",
    "jupyter": {
     "outputs_hidden": false
    },
    "outputId": "364e4d43-ac31-494e-ac6a-629e922645b6"
   },
   "outputs": [],
   "source": [
    "fig = plt.figure()\n",
    "ax = plt.axes(projection='3d')"
   ]
  },
  {
   "cell_type": "markdown",
   "metadata": {
    "id": "1RxhGlii9KXk"
   },
   "source": [
    "With this three-dimensional axes enabled, we can now plot a variety of three-dimensional plot types.\n",
    "Three-dimensional plotting is one of the functionalities that benefits immensely from viewing figures interactively rather than statically, in the notebook; recall that to use interactive figures, you can use `%matplotlib notebook` rather than `%matplotlib inline` when running this code."
   ]
  },
  {
   "cell_type": "markdown",
   "metadata": {
    "id": "I_LqGChI9KXl"
   },
   "source": [
    "## Three-Dimensional Points and Lines\n",
    "\n",
    "The most basic three-dimensional plot is a line or collection of scatter plots created from sets of (x, y, z) triples.\n",
    "In analogy with the more common two-dimensional plots discussed earlier, these can be created using the `ax.plot3D` and `ax.scatter3D` functions.\n",
    "The call signature for these is nearly identical to that of their two-dimensional counterparts, so you can refer to [Simple Line Plots](04.01-Simple-Line-Plots.ipynb) and [Simple Scatter Plots](04.02-Simple-Scatter-Plots.ipynb) for more information on controlling the output.\n",
    "Here we'll plot a trigonometric spiral, along with some points drawn randomly near the line (see the following figure):"
   ]
  },
  {
   "cell_type": "code",
   "execution_count": null,
   "metadata": {
    "collapsed": false,
    "id": "mAYaEzyk9KXl",
    "jupyter": {
     "outputs_hidden": false
    },
    "outputId": "eb96ccc3-b65e-4980-b325-4affe98a9c86"
   },
   "outputs": [],
   "source": [
    "ax = plt.axes(projection='3d')\n",
    "\n",
    "# Data for a three-dimensional line\n",
    "zline = np.linspace(0, 15, 1000)\n",
    "xline = np.sin(zline)\n",
    "yline = np.cos(zline)\n",
    "ax.plot3D(xline, yline, zline, 'gray')\n",
    "\n",
    "# Data for three-dimensional scattered points\n",
    "zdata = 15 * np.random.random(100)\n",
    "xdata = np.sin(zdata) + 0.1 * np.random.randn(100)\n",
    "ydata = np.cos(zdata) + 0.1 * np.random.randn(100)\n",
    "ax.scatter3D(xdata, ydata, zdata, c=zdata, cmap='Greens');"
   ]
  },
  {
   "cell_type": "markdown",
   "metadata": {
    "id": "a84vydD89KXl"
   },
   "source": [
    "Notice that scatter points have their transparency adjusted to give a sense of depth on the page.\n",
    "While the three-dimensional effect is sometimes difficult to see within a static image, an interactive view can lead to some nice intuition about the layout of the points."
   ]
  },
  {
   "cell_type": "markdown",
   "metadata": {
    "id": "qLx30fQs9KXl"
   },
   "source": [
    "## Three-Dimensional Contour Plots\n",
    "\n",
    "Analogous to the contour plots we explored in [Density and Contour Plots](04.04-Density-and-Contour-Plots.ipynb), `mplot3d` contains tools to create three-dimensional relief plots using the same inputs.\n",
    "Like `ax.contour`, `ax.contour3D` requires all the input data to be in the form of two-dimensional regular grids, with the *z* data evaluated at each point.\n",
    "Here we'll show a three-dimensional contour diagram of a three-dimensional sinusoidal function (see the following figure):"
   ]
  },
  {
   "cell_type": "code",
   "execution_count": null,
   "metadata": {
    "collapsed": false,
    "id": "hr2O5JOf9KXm",
    "jupyter": {
     "outputs_hidden": false
    }
   },
   "outputs": [],
   "source": [
    "def f(x, y):\n",
    "    return np.sin(np.sqrt(x ** 2 + y ** 2))\n",
    "\n",
    "x = np.linspace(-6, 6, 30)\n",
    "y = np.linspace(-6, 6, 30)\n",
    "\n",
    "X, Y = np.meshgrid(x, y)\n",
    "Z = f(X, Y)"
   ]
  },
  {
   "cell_type": "code",
   "execution_count": null,
   "metadata": {
    "collapsed": false,
    "id": "oS3gfD--9KXm",
    "jupyter": {
     "outputs_hidden": false
    },
    "outputId": "5e4f6000-66d9-4615-842d-6ae52aff7243"
   },
   "outputs": [],
   "source": [
    "fig = plt.figure()\n",
    "ax = plt.axes(projection='3d')\n",
    "ax.contour3D(X, Y, Z, 40, cmap='binary')\n",
    "ax.set_xlabel('x')\n",
    "ax.set_ylabel('y')\n",
    "ax.set_zlabel('z');"
   ]
  },
  {
   "cell_type": "markdown",
   "metadata": {
    "id": "vs0Y5tgm9KXm"
   },
   "source": [
    "Sometimes the default viewing angle is not optimal, in which case we can use the `view_init` method to set the elevation and azimuthal angles. In the following example, visualized in the following figure, we'll use an elevation of 60 degrees (that is, 60 degrees above the x-y plane) and an azimuth of 35 degrees (that is, rotated 35 degrees counter-clockwise about the z-axis):"
   ]
  },
  {
   "cell_type": "code",
   "execution_count": null,
   "metadata": {
    "collapsed": false,
    "id": "4Amf9E8n9KXm",
    "jupyter": {
     "outputs_hidden": false
    },
    "outputId": "7da81d85-5dd4-4e6f-c1de-a1054ecbb1a5"
   },
   "outputs": [],
   "source": [
    "ax.view_init(60, 35)\n",
    "fig"
   ]
  },
  {
   "cell_type": "markdown",
   "metadata": {
    "id": "h9O4NAyE9KXm"
   },
   "source": [
    "Again, note that this type of rotation can be accomplished interactively by clicking and dragging when using one of Matplotlib's interactive backends."
   ]
  },
  {
   "cell_type": "markdown",
   "metadata": {
    "id": "Lme43xhg9KXm"
   },
   "source": [
    "## Wireframes and Surface Plots\n",
    "\n",
    "Two other types of three-dimensional plots that work on gridded data are wireframes and surface plots.\n",
    "These take a grid of values and project it onto the specified three-dimensional surface, and can make the resulting three-dimensional forms quite easy to visualize.\n",
    "Here's an example of using a wireframe (see the following figure):"
   ]
  },
  {
   "cell_type": "code",
   "execution_count": null,
   "metadata": {
    "collapsed": false,
    "id": "LeWsOBjm9KXm",
    "jupyter": {
     "outputs_hidden": false
    },
    "outputId": "07d16e6b-07b8-4c76-dcd4-987d251464f2"
   },
   "outputs": [],
   "source": [
    "fig = plt.figure()\n",
    "ax = plt.axes(projection='3d')\n",
    "ax.plot_wireframe(X, Y, Z)\n",
    "ax.set_title('wireframe');"
   ]
  },
  {
   "cell_type": "markdown",
   "metadata": {
    "id": "Z8MYM50B9KXm"
   },
   "source": [
    "A surface plot is like a wireframe plot, but each face of the wireframe is a filled polygon.\n",
    "Adding a colormap to the filled polygons can aid perception of the topology of the surface being visualized, as you can see in the following figure:"
   ]
  },
  {
   "cell_type": "code",
   "execution_count": null,
   "metadata": {
    "collapsed": false,
    "id": "j5FOSQYQ9KXm",
    "jupyter": {
     "outputs_hidden": false
    },
    "outputId": "3f65ee50-689d-41eb-86e0-08e7c144c6e1"
   },
   "outputs": [],
   "source": [
    "ax = plt.axes(projection='3d')\n",
    "ax.plot_surface(X, Y, Z, rstride=1, cstride=1,\n",
    "                cmap='viridis', edgecolor='none')\n",
    "ax.set_title('surface');"
   ]
  },
  {
   "cell_type": "markdown",
   "metadata": {
    "id": "ZP_We7BP9KXm"
   },
   "source": [
    "Though the grid of values for a surface plot needs to be two-dimensional, it need not be rectilinear.\n",
    "Here is an example of creating a partial polar grid, which when used with the `surface3D` plot can give us a slice into the function we're visualizing (see the following figure):"
   ]
  },
  {
   "cell_type": "code",
   "execution_count": null,
   "metadata": {
    "collapsed": false,
    "id": "hEhuFg-p9KXm",
    "jupyter": {
     "outputs_hidden": false
    },
    "outputId": "fcd4e292-f81d-40cc-d030-3ce29c59c9a6"
   },
   "outputs": [],
   "source": [
    "r = np.linspace(0, 6, 20)\n",
    "theta = np.linspace(-0.9 * np.pi, 0.8 * np.pi, 40)\n",
    "r, theta = np.meshgrid(r, theta)\n",
    "\n",
    "X = r * np.sin(theta)\n",
    "Y = r * np.cos(theta)\n",
    "Z = f(X, Y)\n",
    "\n",
    "ax = plt.axes(projection='3d')\n",
    "ax.plot_surface(X, Y, Z, rstride=1, cstride=1,\n",
    "                cmap='viridis', edgecolor='none');"
   ]
  },
  {
   "cell_type": "markdown",
   "metadata": {
    "id": "k9gCcNjZ9KXm"
   },
   "source": [
    "## Surface Triangulations\n",
    "\n",
    "For some applications, the evenly sampled grids required by the preceding routines are too restrictive.\n",
    "In these situations, triangulation-based plots can come in handy.\n",
    "What if rather than an even draw from a Cartesian or a polar grid, we instead have a set of random draws?"
   ]
  },
  {
   "cell_type": "code",
   "execution_count": null,
   "metadata": {
    "collapsed": false,
    "id": "qIc2q6bT9KXn",
    "jupyter": {
     "outputs_hidden": false
    }
   },
   "outputs": [],
   "source": [
    "theta = 2 * np.pi * np.random.random(1000)\n",
    "r = 6 * np.random.random(1000)\n",
    "x = np.ravel(r * np.sin(theta))\n",
    "y = np.ravel(r * np.cos(theta))\n",
    "z = f(x, y)"
   ]
  },
  {
   "cell_type": "markdown",
   "metadata": {
    "id": "vBcWo-p59KXn"
   },
   "source": [
    "We could create a scatter plot of the points to get an idea of the surface we're sampling from, as shown in the following figure:"
   ]
  },
  {
   "cell_type": "code",
   "execution_count": null,
   "metadata": {
    "collapsed": false,
    "id": "32UNP4DX9KXn",
    "jupyter": {
     "outputs_hidden": false
    },
    "outputId": "c46c1d19-42b0-4852-875d-3765b8efe1ab"
   },
   "outputs": [],
   "source": [
    "ax = plt.axes(projection='3d')\n",
    "ax.scatter(x, y, z, c=z, cmap='viridis', linewidth=0.5);"
   ]
  },
  {
   "cell_type": "markdown",
   "metadata": {
    "id": "DzPuAUni9KXn"
   },
   "source": [
    "This point cloud leaves a lot to be desired.\n",
    "The function that will help us in this case is `ax.plot_trisurf`, which creates a surface by first finding a set of triangles formed between adjacent points (remember that `x`, `y`, and `z` here are one-dimensional arrays); the following figure shows the result:"
   ]
  },
  {
   "cell_type": "code",
   "execution_count": null,
   "metadata": {
    "collapsed": false,
    "id": "11K1lcoD9KXn",
    "jupyter": {
     "outputs_hidden": false
    },
    "outputId": "5b0aceee-22ee-4ec5-fed9-61e39c16db35"
   },
   "outputs": [],
   "source": [
    "ax = plt.axes(projection='3d')\n",
    "ax.plot_trisurf(x, y, z,\n",
    "                cmap='viridis', edgecolor='none');"
   ]
  },
  {
   "cell_type": "markdown",
   "metadata": {
    "id": "T0aU4yMn9KXn"
   },
   "source": [
    "The result is certainly not as clean as when it is plotted with a grid, but the flexibility of such a triangulation allows for some really interesting three-dimensional plots.\n",
    "For example, it is actually possible to plot a three-dimensional Möbius strip using this, as we'll see next."
   ]
  },
  {
   "cell_type": "markdown",
   "metadata": {
    "id": "kuov4UMw9KXn"
   },
   "source": [
    "## Example: Visualizing a Möbius Strip\n",
    "\n",
    "A Möbius strip is similar to a strip of paper glued into a loop with a half-twist, resulting in an object with only a single side!\n",
    "Here we will visualize such an object using Matplotlib's three-dimensional tools.\n",
    "The key to creating the Möbius strip is to think about its parametrization: it's a two-dimensional strip, so we need two intrinsic dimensions. Let's call them $\\theta$, which ranges from $0$ to $2\\pi$ around the loop, and $w$, which ranges from –1 to 1 across the width of the strip:"
   ]
  },
  {
   "cell_type": "code",
   "execution_count": null,
   "metadata": {
    "collapsed": false,
    "id": "_eOZzTw79KXn",
    "jupyter": {
     "outputs_hidden": false
    }
   },
   "outputs": [],
   "source": [
    "theta = np.linspace(0, 2 * np.pi, 30)\n",
    "w = np.linspace(-0.25, 0.25, 8)\n",
    "w, theta = np.meshgrid(w, theta)"
   ]
  },
  {
   "cell_type": "markdown",
   "metadata": {
    "id": "5VQ47sjs9KXn"
   },
   "source": [
    "Now from this parametrization, we must determine the (*x*, *y*, *z*) positions of the embedded strip.\n",
    "\n",
    "Thinking about it, we might realize that there are two rotations happening: one is the position of the loop about its center (what we've called $\\theta$), while the other is the twisting of the strip about its axis (we'll call this $\\phi$). For a Möbius strip, we must have the strip make half a twist during a full loop, or $\\Delta\\phi = \\Delta\\theta/2$:"
   ]
  },
  {
   "cell_type": "code",
   "execution_count": null,
   "metadata": {
    "collapsed": false,
    "id": "YSJqq_bj9KXn",
    "jupyter": {
     "outputs_hidden": false
    }
   },
   "outputs": [],
   "source": [
    "phi = 0.5 * theta"
   ]
  },
  {
   "cell_type": "markdown",
   "metadata": {
    "id": "dmcNmmTc9KXn"
   },
   "source": [
    "Now we use our recollection of trigonometry to derive the three-dimensional embedding.\n",
    "We'll define $r$, the distance of each point from the center, and use this to find the embedded $(x, y, z)$ coordinates:"
   ]
  },
  {
   "cell_type": "code",
   "execution_count": null,
   "metadata": {
    "collapsed": false,
    "id": "cO8gC6iO9KXn",
    "jupyter": {
     "outputs_hidden": false
    }
   },
   "outputs": [],
   "source": [
    "# radius in x-y plane\n",
    "r = 1 + w * np.cos(phi)\n",
    "\n",
    "x = np.ravel(r * np.cos(theta))\n",
    "y = np.ravel(r * np.sin(theta))\n",
    "z = np.ravel(w * np.sin(phi))"
   ]
  },
  {
   "cell_type": "markdown",
   "metadata": {
    "id": "gFItrsiW9KXn"
   },
   "source": [
    "Finally, to plot the object, we must make sure the triangulation is correct. The best way to do this is to define the triangulation *within the underlying parametrization*, and then let Matplotlib project this triangulation into the three-dimensional space of the Möbius strip.\n",
    "This can be accomplished as follows (see the following figure):"
   ]
  },
  {
   "cell_type": "code",
   "execution_count": null,
   "metadata": {
    "collapsed": false,
    "id": "9GwrDdw39KXn",
    "jupyter": {
     "outputs_hidden": false
    },
    "outputId": "3e4330f7-6cc9-4429-b45e-0da12ad7f359"
   },
   "outputs": [],
   "source": [
    "# triangulate in the underlying parametrization\n",
    "from matplotlib.tri import Triangulation\n",
    "tri = Triangulation(np.ravel(w), np.ravel(theta))\n",
    "\n",
    "ax = plt.axes(projection='3d')\n",
    "ax.plot_trisurf(x, y, z, triangles=tri.triangles,\n",
    "                cmap='Greys', linewidths=0.2);\n",
    "\n",
    "ax.set_xlim(-1, 1); ax.set_ylim(-1, 1); ax.set_zlim(-1, 1)\n",
    "ax.axis('off');"
   ]
  },
  {
   "cell_type": "markdown",
   "metadata": {
    "id": "c2xe6wnW9KXn"
   },
   "source": [
    "Combining all of these techniques, it is possible to create and display a wide variety of three-dimensional objects and patterns in Matplotlib."
   ]
  }
 ],
 "metadata": {
  "anaconda-cloud": {},
  "colab": {
   "provenance": []
  },
  "jupytext": {
   "encoding": "# -*- coding: utf-8 -*-",
   "formats": "ipynb,md"
  },
  "kernelspec": {
   "display_name": "Python 3 (ipykernel)",
   "language": "python",
   "name": "python3"
  },
  "language_info": {
   "codemirror_mode": {
    "name": "ipython",
    "version": 3
   },
   "file_extension": ".py",
   "mimetype": "text/x-python",
   "name": "python",
   "nbconvert_exporter": "python",
   "pygments_lexer": "ipython3",
   "version": "3.10.9"
  }
 },
 "nbformat": 4,
 "nbformat_minor": 4
}

{
 "cells": [
  {
   "cell_type": "markdown",
   "metadata": {
    "id": "rQRMYW5384j6"
   },
   "source": [
    "# Customizing Plot Legends"
   ]
  },
  {
   "cell_type": "markdown",
   "metadata": {
    "id": "ocsjf23W84j7"
   },
   "source": [
    "Plot legends give meaning to a visualization, assigning meaning to the various plot elements.\n",
    "We previously saw how to create a simple legend; here we'll take a look at customizing the placement and aesthetics of the legend in Matplotlib.\n",
    "\n",
    "The simplest legend can be created with the `plt.legend` command, which automatically creates a legend for any labeled plot elements (see the following figure):"
   ]
  },
  {
   "cell_type": "code",
   "execution_count": null,
   "metadata": {
    "id": "JugPV4nY84j8",
    "tags": []
   },
   "outputs": [],
   "source": [
    "import matplotlib.pyplot as plt\n",
    "plt.style.use('seaborn-whitegrid')"
   ]
  },
  {
   "cell_type": "code",
   "execution_count": null,
   "metadata": {
    "id": "y-URb_A484j8",
    "tags": []
   },
   "outputs": [],
   "source": [
    "%matplotlib inline\n",
    "import numpy as np"
   ]
  },
  {
   "cell_type": "code",
   "execution_count": null,
   "metadata": {
    "collapsed": false,
    "id": "oTUbLCCI84j9",
    "jupyter": {
     "outputs_hidden": false
    },
    "outputId": "2d4cd7ea-0ef4-43e9-a426-211cde91af91"
   },
   "outputs": [],
   "source": [
    "x = np.linspace(0, 10, 1000)\n",
    "fig, ax = plt.subplots()\n",
    "ax.plot(x, np.sin(x), '-b', label='Sine')\n",
    "ax.plot(x, np.cos(x), '--r', label='Cosine')\n",
    "ax.axis('equal')\n",
    "leg = ax.legend()"
   ]
  },
  {
   "cell_type": "markdown",
   "metadata": {
    "id": "Gw5f-F-W84j9"
   },
   "source": [
    "But there are many ways we might want to customize such a legend.\n",
    "For example, we can specify the location and turn on the frame (see the following figure):"
   ]
  },
  {
   "cell_type": "code",
   "execution_count": null,
   "metadata": {
    "collapsed": false,
    "id": "Ka_Q9Xuc84j9",
    "jupyter": {
     "outputs_hidden": false
    },
    "outputId": "4fcd359f-e7f4-4ad0-c4ce-94e2479f0d0d"
   },
   "outputs": [],
   "source": [
    "ax.legend(loc='upper left', frameon=True)\n",
    "fig"
   ]
  },
  {
   "cell_type": "markdown",
   "metadata": {
    "id": "NuC8gTTC84j9"
   },
   "source": [
    "We can use the ``ncol`` command to specify the number of columns in the legend, as shown in the following figure:"
   ]
  },
  {
   "cell_type": "code",
   "execution_count": null,
   "metadata": {
    "collapsed": false,
    "id": "9yoZoycJ84j-",
    "jupyter": {
     "outputs_hidden": false
    },
    "outputId": "a53f42d8-1b98-44e2-8320-f55a21505c5b"
   },
   "outputs": [],
   "source": [
    "ax.legend(loc='lower center', ncol=2)\n",
    "fig"
   ]
  },
  {
   "cell_type": "markdown",
   "metadata": {
    "id": "n2Apd5SR84j-"
   },
   "source": [
    "And we can use a rounded box (`fancybox`) or add a shadow, change the transparency (alpha value) of the frame, or change the padding around the text (see the following figure):"
   ]
  },
  {
   "cell_type": "code",
   "execution_count": null,
   "metadata": {
    "collapsed": false,
    "id": "Uk_Z1yNx84j-",
    "jupyter": {
     "outputs_hidden": false
    },
    "outputId": "5775f2c0-593b-4b09-e59f-de2924758f3a"
   },
   "outputs": [],
   "source": [
    "ax.legend(frameon=True, fancybox=True, framealpha=1,\n",
    "          shadow=True, borderpad=1)\n",
    "fig"
   ]
  },
  {
   "cell_type": "markdown",
   "metadata": {
    "id": "cedJKtwT84j-"
   },
   "source": [
    "For more information on available legend options, see the `plt.legend` docstring."
   ]
  },
  {
   "cell_type": "markdown",
   "metadata": {
    "id": "XICXSuWb84j-"
   },
   "source": [
    "## Choosing Elements for the Legend\n",
    "\n",
    "As we have already seen, by default the legend includes all labeled elements from the plot.\n",
    "If this is not what is desired, we can fine-tune which elements and labels appear in the legend by using the objects returned by `plot` commands.\n",
    "`plt.plot` is able to create multiple lines at once, and returns a list of created line instances.\n",
    "Passing any of these to `plt.legend` will tell it which to identify, along with the labels we'd like to specify (see the following figure):"
   ]
  },
  {
   "cell_type": "code",
   "execution_count": null,
   "metadata": {
    "collapsed": false,
    "id": "AgLl355V84j-",
    "jupyter": {
     "outputs_hidden": false
    },
    "outputId": "5c880ce5-0cf3-467f-ceb9-528d42478341"
   },
   "outputs": [],
   "source": [
    "y = np.sin(x[:, np.newaxis] + np.pi * np.arange(0, 2, 0.5))\n",
    "lines = plt.plot(x, y)\n",
    "\n",
    "# lines is a list of plt.Line2D instances\n",
    "plt.legend(lines[:2], ['first', 'second'], frameon=True);"
   ]
  },
  {
   "cell_type": "markdown",
   "metadata": {
    "id": "Nddpfor184j-"
   },
   "source": [
    "I generally find in practice that it is clearer to use the first method, applying labels to the plot elements you'd like to show on the legend (see the following figure):"
   ]
  },
  {
   "cell_type": "code",
   "execution_count": null,
   "metadata": {
    "collapsed": false,
    "id": "2P5wkDKx84j-",
    "jupyter": {
     "outputs_hidden": false
    },
    "outputId": "3450284a-fd9b-4f0d-b95a-9d47a9a830dc"
   },
   "outputs": [],
   "source": [
    "plt.plot(x, y[:, 0], label='first')\n",
    "plt.plot(x, y[:, 1], label='second')\n",
    "plt.plot(x, y[:, 2:])\n",
    "plt.legend(frameon=True);"
   ]
  },
  {
   "cell_type": "markdown",
   "metadata": {
    "id": "Oz4USagx84j_"
   },
   "source": [
    "Notice that the legend ignores all elements without a `label` attribute set."
   ]
  },
  {
   "cell_type": "markdown",
   "metadata": {
    "id": "VEfxCDt484j_"
   },
   "source": [
    "## Legend for Size of Points\n",
    "\n",
    "Sometimes the legend defaults are not sufficient for the given visualization.\n",
    "For example, perhaps you're using the size of points to mark certain features of the data, and want to create a legend reflecting this.\n",
    "Here is an example where we'll use the size of points to indicate populations of California cities.\n",
    "We'd like a legend that specifies the scale of the sizes of the points, and we'll accomplish this by plotting some labeled data with no entries (see the following figure):"
   ]
  },
  {
   "cell_type": "code",
   "execution_count": null,
   "metadata": {
    "id": "LsQpLBoV84j_"
   },
   "outputs": [],
   "source": [
    "# Uncomment to download the data\n",
    "# url = ('https://raw.githubusercontent.com/jakevdp/PythonDataScienceHandbook/'\n",
    "#        'master/notebooks/data/california_cities.csv')\n",
    "# !cd data && curl -O {url}"
   ]
  },
  {
   "cell_type": "code",
   "execution_count": null,
   "metadata": {
    "collapsed": false,
    "id": "CJu3MiTo84j_",
    "jupyter": {
     "outputs_hidden": false
    },
    "outputId": "bb440ce4-6cd9-4b43-8937-c041baabbd86"
   },
   "outputs": [],
   "source": [
    "import pandas as pd\n",
    "cities = pd.read_csv('data/california_cities.csv')\n",
    "\n",
    "# Extract the data we're interested in\n",
    "lat, lon = cities['latd'], cities['longd']\n",
    "population, area = cities['population_total'], cities['area_total_km2']\n",
    "\n",
    "# Scatter the points, using size and color but no label\n",
    "plt.scatter(lon, lat, label=None,\n",
    "            c=np.log10(population), cmap='viridis',\n",
    "            s=area, linewidth=0, alpha=0.5)\n",
    "plt.axis('equal')\n",
    "plt.xlabel('longitude')\n",
    "plt.ylabel('latitude')\n",
    "plt.colorbar(label='log$_{10}$(population)')\n",
    "plt.clim(3, 7)\n",
    "\n",
    "# Here we create a legend:\n",
    "# we'll plot empty lists with the desired size and label\n",
    "for area in [100, 300, 500]:\n",
    "    plt.scatter([], [], c='k', alpha=0.3, s=area,\n",
    "                label=str(area) + ' km$^2$')\n",
    "plt.legend(scatterpoints=1, frameon=False, labelspacing=1, title='City Area')\n",
    "\n",
    "plt.title('California Cities: Area and Population');"
   ]
  },
  {
   "cell_type": "markdown",
   "metadata": {
    "id": "VRfQt3Hd84j_"
   },
   "source": [
    "The legend will always reference some object that is on the plot, so if we'd like to display a particular shape we need to plot it.\n",
    "In this case, the objects we want (gray circles) are not on the plot, so we fake them by plotting empty lists.\n",
    "Recall that the legend only lists plot elements that have a label specified.\n",
    "\n",
    "By plotting empty lists, we create labeled plot objects that are picked up by the legend, and now our legend tells us some useful information.\n",
    "This strategy can be useful for creating more sophisticated visualizations."
   ]
  },
  {
   "cell_type": "markdown",
   "metadata": {
    "id": "xDjEa-Gi84j_"
   },
   "source": [
    "## Multiple Legends\n",
    "\n",
    "Sometimes when designing a plot you'd like to add multiple legends to the same axes.\n",
    "Unfortunately, Matplotlib does not make this easy: via the standard `legend` interface, it is only possible to create a single legend for the entire plot.\n",
    "If you try to create a second legend using `plt.legend` or `ax.legend`, it will simply override the first one.\n",
    "We can work around this by creating a new legend artist from scratch (`Artist` is the base class Matplotlib uses for visual attributes), and then using the lower-level `ax.add_artist` method to manually add the second artist to the plot (see the following figure):"
   ]
  },
  {
   "cell_type": "code",
   "execution_count": null,
   "metadata": {
    "collapsed": false,
    "id": "rHDTnEOn84j_",
    "jupyter": {
     "outputs_hidden": false
    },
    "outputId": "f8ab98ff-da3e-414b-8072-e9e23dcf2889"
   },
   "outputs": [],
   "source": [
    "fig, ax = plt.subplots()\n",
    "\n",
    "lines = []\n",
    "styles = ['-', '--', '-.', ':']\n",
    "x = np.linspace(0, 10, 1000)\n",
    "\n",
    "for i in range(4):\n",
    "    lines += ax.plot(x, np.sin(x - i * np.pi / 2),\n",
    "                     styles[i], color='black')\n",
    "ax.axis('equal')\n",
    "\n",
    "# Specify the lines and labels of the first legend\n",
    "ax.legend(lines[:2], ['line A', 'line B'], loc='upper right')\n",
    "\n",
    "# Create the second legend and add the artist manually\n",
    "from matplotlib.legend import Legend\n",
    "leg = Legend(ax, lines[2:], ['line C', 'line D'], loc='lower right')\n",
    "ax.add_artist(leg);"
   ]
  },
  {
   "cell_type": "markdown",
   "metadata": {
    "id": "gDecEMzu84j_"
   },
   "source": [
    "This is a peek into the low-level artist objects that comprise any Matplotlib plot.\n",
    "If you examine the source code of `ax.legend` (recall that you can do this with within the Jupyter notebook using `ax.legend??`) you'll see that the function simply consists of some logic to create a suitable `Legend` artist, which is then saved in the `legend_` attribute and added to the figure when the plot is drawn."
   ]
  }
 ],
 "metadata": {
  "anaconda-cloud": {},
  "colab": {
   "provenance": []
  },
  "jupytext": {
   "formats": "ipynb,md"
  },
  "kernelspec": {
   "display_name": "Python 3 (ipykernel)",
   "language": "python",
   "name": "python3"
  },
  "language_info": {
   "codemirror_mode": {
    "name": "ipython",
    "version": 3
   },
   "file_extension": ".py",
   "mimetype": "text/x-python",
   "name": "python",
   "nbconvert_exporter": "python",
   "pygments_lexer": "ipython3",
   "version": "3.10.9"
  }
 },
 "nbformat": 4,
 "nbformat_minor": 4
}

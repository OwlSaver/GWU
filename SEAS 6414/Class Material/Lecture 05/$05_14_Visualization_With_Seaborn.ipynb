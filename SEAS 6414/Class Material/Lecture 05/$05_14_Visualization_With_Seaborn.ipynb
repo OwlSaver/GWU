{
 "cells": [
  {
   "cell_type": "markdown",
   "metadata": {
    "id": "7HLdoXYI9Qrn"
   },
   "source": [
    "# Visualization with Seaborn"
   ]
  },
  {
   "cell_type": "markdown",
   "metadata": {
    "id": "txBt8giF9Qrp"
   },
   "source": [
    "Matplotlib has been at the core of scientific visualization in Python for decades, but even avid users will admit it often leaves much to be desired.\n",
    "There are several complaints about Matplotlib that often come up:\n",
    "\n",
    "- A common early complaint, which is now outdated: prior to version 2.0, Matplotlib's color and style defaults were at times poor and looked dated.\n",
    "- Matplotlib's API is relatively low-level. Doing sophisticated statistical visualization is possible, but often requires a *lot* of boilerplate code.\n",
    "- Matplotlib predated Pandas by more than a decade, and thus is not designed for use with Pandas `DataFrame` objects. In order to visualize data from a `DataFrame`, you must extract each `Series` and often concatenate them together into the right format. It would be nicer to have a plotting library that can intelligently use the `DataFrame` labels in a plot.\n",
    "\n",
    "An answer to these problems is [Seaborn](http://seaborn.pydata.org/). Seaborn provides an API on top of Matplotlib that offers sane choices for plot style and color defaults, defines simple high-level functions for common statistical plot types, and integrates with the functionality provided by Pandas.\n",
    "\n",
    "To be fair, the Matplotlib team has adapted to the changing landscape: it added the `plt.style` tools discussed in [Customizing Matplotlib: Configurations and Style Sheets](04.11-Settings-and-Stylesheets.ipynb), and Matplotlib is starting to handle Pandas data more seamlessly.\n",
    "But for all the reasons just discussed, Seaborn remains a useful add-on.\n",
    "\n",
    "By convention, Seaborn is often imported as `sns`:"
   ]
  },
  {
   "cell_type": "code",
   "execution_count": null,
   "metadata": {
    "id": "aQwnXXaG9Qrp"
   },
   "outputs": [],
   "source": [
    "%matplotlib inline\n",
    "import matplotlib.pyplot as plt\n",
    "import seaborn as sns\n",
    "import numpy as np\n",
    "import pandas as pd\n",
    "\n",
    "sns.set()  # seaborn's method to set its chart style"
   ]
  },
  {
   "cell_type": "markdown",
   "metadata": {
    "id": "sKcZThhm9Qrq"
   },
   "source": [
    "## Exploring Seaborn Plots\n",
    "\n",
    "The main idea of Seaborn is that it provides high-level commands to create a variety of plot types useful for statistical data exploration, and even some statistical model fitting.\n",
    "\n",
    "Let's take a look at a few of the datasets and plot types available in Seaborn. Note that all of the following *could* be done using raw Matplotlib commands (this is, in fact, what Seaborn does under the hood), but the Seaborn API is much more convenient."
   ]
  },
  {
   "cell_type": "markdown",
   "metadata": {
    "id": "Yh-f2msH9Qrq"
   },
   "source": [
    "### Histograms, KDE, and Densities\n",
    "\n",
    "Often in statistical data visualization, all you want is to plot histograms and joint distributions of variables.\n",
    "We have seen that this is relatively straightforward in Matplotlib (see the following figure):"
   ]
  },
  {
   "cell_type": "code",
   "execution_count": null,
   "metadata": {
    "collapsed": false,
    "id": "z1N8DS8f9Qrq",
    "jupyter": {
     "outputs_hidden": false
    },
    "outputId": "84bbbe7d-49b6-4084-b416-6e8900391da6"
   },
   "outputs": [],
   "source": [
    "data = np.random.multivariate_normal([0, 0], [[5, 2], [2, 2]], size=2000)\n",
    "data = pd.DataFrame(data, columns=['x', 'y'])\n",
    "\n",
    "for col in 'xy':\n",
    "    plt.hist(data[col], density=True, alpha=0.5)"
   ]
  },
  {
   "cell_type": "markdown",
   "metadata": {
    "id": "m9GgZuh-9Qrr"
   },
   "source": [
    "Rather than just providing a histogram as a visual output, we can get a smooth estimate of the distribution using kernel density estimation (introduced in [Density and Contour Plots](04.04-Density-and-Contour-Plots.ipynb)), which Seaborn does with ``sns.kdeplot`` (see the following figure):"
   ]
  },
  {
   "cell_type": "code",
   "execution_count": null,
   "metadata": {
    "collapsed": false,
    "id": "GAoqZQo49Qrr",
    "jupyter": {
     "outputs_hidden": false
    },
    "outputId": "7c092838-068a-4ac1-bfbf-c12c4af43996"
   },
   "outputs": [],
   "source": [
    "sns.kdeplot(data=data, shade=True);"
   ]
  },
  {
   "cell_type": "markdown",
   "metadata": {
    "id": "BA4HBdpf9Qrs"
   },
   "source": [
    "If we pass `x` and `y` columns to `kdeplot`, we instead get a two-dimensional visualization of the joint density (see the following figure):"
   ]
  },
  {
   "cell_type": "code",
   "execution_count": null,
   "metadata": {
    "collapsed": false,
    "id": "M_iTNrS39Qrs",
    "jupyter": {
     "outputs_hidden": false
    },
    "outputId": "e60554d2-0e9a-47f6-d3ac-ba0d633902ab"
   },
   "outputs": [],
   "source": [
    "sns.kdeplot(data=data, x='x', y='y');"
   ]
  },
  {
   "cell_type": "markdown",
   "metadata": {
    "id": "hZ9o423-9Qrs"
   },
   "source": [
    "We can see the joint distribution and the marginal distributions together using `sns.jointplot`, which we'll explore further later in this chapter."
   ]
  },
  {
   "cell_type": "markdown",
   "metadata": {
    "id": "NlxV_xC19Qrs"
   },
   "source": [
    "### Pair Plots\n",
    "\n",
    "When you generalize joint plots to datasets of larger dimensions, you end up with *pair plots*. These are very useful for exploring correlations between multidimensional data, when you'd like to plot all pairs of values against each other.\n",
    "\n",
    "We'll demo this with the well-known Iris dataset, which lists measurements of petals and sepals of three Iris species:"
   ]
  },
  {
   "cell_type": "code",
   "execution_count": null,
   "metadata": {
    "collapsed": false,
    "id": "DIYRSdiH9Qrs",
    "jupyter": {
     "outputs_hidden": false
    },
    "outputId": "dd5183a6-af6d-4653-93dc-6dd047b04ea5"
   },
   "outputs": [],
   "source": [
    "iris = sns.load_dataset(\"iris\")\n",
    "iris.head()"
   ]
  },
  {
   "cell_type": "markdown",
   "metadata": {
    "id": "ryXstTSn9Qrs"
   },
   "source": [
    "Visualizing the multidimensional relationships among the samples is as easy as calling ``sns.pairplot`` (see the following figure):"
   ]
  },
  {
   "cell_type": "code",
   "execution_count": null,
   "metadata": {
    "collapsed": false,
    "id": "SRZM7nDW9Qrs",
    "jupyter": {
     "outputs_hidden": false
    },
    "outputId": "4339b178-a688-46c4-92fa-d1d8c0459325"
   },
   "outputs": [],
   "source": [
    "sns.pairplot(iris, hue='species', height=2.5);"
   ]
  },
  {
   "cell_type": "markdown",
   "metadata": {
    "id": "JezOpHAe9Qrs"
   },
   "source": [
    "### Faceted Histograms\n",
    "\n",
    "Sometimes the best way to view data is via histograms of subsets, as shown in the following figure. Seaborn's `FacetGrid` makes this simple.\n",
    "We'll take a look at some data that shows the amount that restaurant staff receive in tips based on various indicator data:[^1]\n",
    "\n",
    "[^1]: The restaurant staff data used in this section divides employees into two sexes: female and male. Biological sex\n",
    "isn’t binary, but the following discussion and visualizations are limited by this data."
   ]
  },
  {
   "cell_type": "markdown",
   "metadata": {
    "id": "J89aPSXM9Qrs"
   },
   "source": []
  },
  {
   "cell_type": "code",
   "execution_count": null,
   "metadata": {
    "collapsed": false,
    "id": "CDEjGT969Qrs",
    "jupyter": {
     "outputs_hidden": false
    },
    "outputId": "3edb2949-c919-40fe-e44d-55826af6a217"
   },
   "outputs": [],
   "source": [
    "tips = sns.load_dataset('tips')\n",
    "tips.head()"
   ]
  },
  {
   "cell_type": "code",
   "execution_count": null,
   "metadata": {
    "collapsed": false,
    "id": "wQ8AsE8m9Qrt",
    "jupyter": {
     "outputs_hidden": false
    },
    "outputId": "182119a8-b97d-493e-d1de-7a01ee6b0783"
   },
   "outputs": [],
   "source": [
    "tips['tip_pct'] = 100 * tips['tip'] / tips['total_bill']\n",
    "\n",
    "grid = sns.FacetGrid(tips, row=\"sex\", col=\"time\", margin_titles=True)\n",
    "grid.map(plt.hist, \"tip_pct\", bins=np.linspace(0, 40, 15));"
   ]
  },
  {
   "cell_type": "markdown",
   "metadata": {
    "id": "yhOMVCYa9Qrt"
   },
   "source": [
    "The faceted chart gives us some quick insights into the dataset: for example, we see that it contains far more data on male servers during the dinner hour than other categories, and typical tip amounts appear to range from approximately 10% to 20%, with some outliers on either end.\n",
    "\n",
    "### Categorical Plots\n",
    "\n",
    "Categorical plots can be useful for this kind of visualization as well. These allow you to view the distribution of a parameter within bins defined by any other parameter, as shown in the following figure:"
   ]
  },
  {
   "cell_type": "code",
   "execution_count": null,
   "metadata": {
    "collapsed": false,
    "id": "KPxDFzK09Qrt",
    "jupyter": {
     "outputs_hidden": false
    },
    "outputId": "60cdb3eb-5088-47d1-b016-5899602da61b"
   },
   "outputs": [],
   "source": [
    "with sns.axes_style(style='ticks'):\n",
    "    g = sns.catplot(x=\"day\", y=\"total_bill\", hue=\"sex\", data=tips, kind=\"box\")\n",
    "    g.set_axis_labels(\"Day\", \"Total Bill\");"
   ]
  },
  {
   "cell_type": "markdown",
   "metadata": {
    "id": "jn7MUkOf9Qrt"
   },
   "source": [
    "### Joint Distributions\n",
    "\n",
    "Similar to the pair plot we saw earlier, we can use `sns.jointplot` to show the joint distribution between different datasets, along with the associated marginal distributions (see the following figure):"
   ]
  },
  {
   "cell_type": "code",
   "execution_count": null,
   "metadata": {
    "collapsed": false,
    "id": "sBSOs4d39Qrt",
    "jupyter": {
     "outputs_hidden": false
    },
    "outputId": "53e18ed8-e0dd-429c-b5e6-77844961d1c5"
   },
   "outputs": [],
   "source": [
    "with sns.axes_style('white'):\n",
    "    sns.jointplot(x=\"total_bill\", y=\"tip\", data=tips, kind='hex')"
   ]
  },
  {
   "cell_type": "markdown",
   "metadata": {
    "id": "F4UnfqV59Qrt"
   },
   "source": [
    "The joint plot can even do some automatic kernel density estimation and regression, as shown in the following figure:"
   ]
  },
  {
   "cell_type": "code",
   "execution_count": null,
   "metadata": {
    "collapsed": false,
    "id": "nvpU-NP39Qrt",
    "jupyter": {
     "outputs_hidden": false
    },
    "outputId": "4d9eb3d7-d619-4f90-c8f0-4872a68a2f88"
   },
   "outputs": [],
   "source": [
    "sns.jointplot(x=\"total_bill\", y=\"tip\", data=tips, kind='reg');"
   ]
  },
  {
   "cell_type": "markdown",
   "metadata": {
    "id": "ym1jK9jD9Qrt"
   },
   "source": [
    "### Bar Plots\n",
    "\n",
    "Time series can be plotted using `sns.factorplot`. In the following example, we'll use the Planets dataset that we first saw in [Aggregation and Grouping](03.08-Aggregation-and-Grouping.ipynb); see the following figure for the result:"
   ]
  },
  {
   "cell_type": "code",
   "execution_count": null,
   "metadata": {
    "collapsed": false,
    "id": "Ka-cEbyc9Qrt",
    "jupyter": {
     "outputs_hidden": false
    },
    "outputId": "b86b0887-128e-43f4-e5af-dcd5b3dee3da"
   },
   "outputs": [],
   "source": [
    "planets = sns.load_dataset('planets')\n",
    "planets.head()"
   ]
  },
  {
   "cell_type": "code",
   "execution_count": null,
   "metadata": {
    "collapsed": false,
    "id": "r5clFKSf9Qru",
    "jupyter": {
     "outputs_hidden": false
    },
    "outputId": "70598cb6-c442-4898-90aa-cd4d6074f4ab"
   },
   "outputs": [],
   "source": [
    "with sns.axes_style('white'):\n",
    "    g = sns.catplot(x=\"year\", data=planets, aspect=2,\n",
    "                    kind=\"count\", color='steelblue')\n",
    "    g.set_xticklabels(step=5)"
   ]
  },
  {
   "cell_type": "markdown",
   "metadata": {
    "id": "lUopOskO9Qru"
   },
   "source": [
    "We can learn more by looking at the *method* of discovery of each of these planets (see the following figure):"
   ]
  },
  {
   "cell_type": "code",
   "execution_count": null,
   "metadata": {
    "collapsed": false,
    "id": "4ZnOzgsF9Qru",
    "jupyter": {
     "outputs_hidden": false
    },
    "outputId": "37c23610-a684-434a-901a-85e4c0c46793"
   },
   "outputs": [],
   "source": [
    "with sns.axes_style('white'):\n",
    "    g = sns.catplot(x=\"year\", data=planets, aspect=4.0, kind='count',\n",
    "                    hue='method', order=range(2001, 2015))\n",
    "    g.set_ylabels('Number of Planets Discovered')"
   ]
  },
  {
   "cell_type": "markdown",
   "metadata": {
    "id": "UnFsMH9O9Qru"
   },
   "source": [
    "For more information on plotting with Seaborn, see the [Seaborn documentation](http://seaborn.pydata.org/), and particularly the [example gallery](https://seaborn.pydata.org/examples/index.html)."
   ]
  },
  {
   "cell_type": "markdown",
   "metadata": {
    "id": "D8o4ek7k9Qru"
   },
   "source": [
    "## Example: Exploring Marathon Finishing Times\n",
    "\n",
    "Here we'll look at using Seaborn to help visualize and understand finishing results from a marathon.\n",
    "I've scraped the data from sources on the web, aggregated it and removed any identifying information, and put it on GitHub, where it can be downloaded\n",
    "(if you are interested in using Python for web scraping, I would recommend [*Web Scraping with Python*](http://shop.oreilly.com/product/0636920034391.do) by Ryan Mitchell, also from O'Reilly).\n",
    "We will start by downloading the data and loading it into Pandas:[^2]\n",
    "\n",
    "[^2]: The marathon data used in this section divides runners into two genders: men and women. While gender is a\n",
    "spectrum, the following discussion and visualizations use this binary because they depend on the data."
   ]
  },
  {
   "cell_type": "code",
   "execution_count": null,
   "metadata": {
    "collapsed": false,
    "id": "0VPvHOW19Qru",
    "jupyter": {
     "outputs_hidden": false
    }
   },
   "outputs": [],
   "source": [
    "# url = ('https://raw.githubusercontent.com/jakevdp/'\n",
    "#        'marathon-data/master/marathon-data.csv')\n",
    "# !cd data && curl -O {url}"
   ]
  },
  {
   "cell_type": "code",
   "execution_count": null,
   "metadata": {
    "collapsed": false,
    "id": "cM_WNHh-9Qru",
    "jupyter": {
     "outputs_hidden": false
    },
    "outputId": "dafbb8f8-0159-4a9f-e239-dd162f8b8405"
   },
   "outputs": [],
   "source": [
    "data = pd.read_csv('data/marathon-data.csv')\n",
    "data.head()"
   ]
  },
  {
   "cell_type": "markdown",
   "metadata": {
    "id": "EXRy0Y2o9Qru"
   },
   "source": [
    "Notice that Pandas loaded the time columns as Python strings (type `object`); we can see this by looking at the `dtypes` attribute of the `DataFrame`:"
   ]
  },
  {
   "cell_type": "code",
   "execution_count": null,
   "metadata": {
    "collapsed": false,
    "id": "nIMuYB359Qru",
    "jupyter": {
     "outputs_hidden": false
    },
    "outputId": "98e03a51-076b-4ef4-86d8-36fa9c9a8194"
   },
   "outputs": [],
   "source": [
    "data.dtypes"
   ]
  },
  {
   "cell_type": "markdown",
   "metadata": {
    "id": "kqdftAjC9Qru"
   },
   "source": [
    "Let's fix this by providing a converter for the times:"
   ]
  },
  {
   "cell_type": "code",
   "execution_count": null,
   "metadata": {
    "collapsed": false,
    "id": "wi8zaXUA9Qru",
    "jupyter": {
     "outputs_hidden": false
    },
    "outputId": "9df5b938-5e67-4460-b1ea-384b73cd557b"
   },
   "outputs": [],
   "source": [
    "import datetime\n",
    "\n",
    "def convert_time(s):\n",
    "    h, m, s = map(int, s.split(':'))\n",
    "    return datetime.timedelta(hours=h, minutes=m, seconds=s)\n",
    "\n",
    "data = pd.read_csv('data/marathon-data.csv',\n",
    "                   converters={'split':convert_time, 'final':convert_time})\n",
    "data.head()"
   ]
  },
  {
   "cell_type": "code",
   "execution_count": null,
   "metadata": {
    "collapsed": false,
    "id": "7mX7VtCY9Qru",
    "jupyter": {
     "outputs_hidden": false
    },
    "outputId": "c753228f-7317-4669-e6e6-facd31f1f381"
   },
   "outputs": [],
   "source": [
    "data.dtypes"
   ]
  },
  {
   "cell_type": "markdown",
   "metadata": {
    "id": "o_piR0-Z9Qry"
   },
   "source": [
    "That will make it easier to manipulate the temporal data. For the purpose of our Seaborn plotting utilities, let's next add columns that give the times in seconds:"
   ]
  },
  {
   "cell_type": "code",
   "execution_count": null,
   "metadata": {
    "collapsed": false,
    "id": "e588WZXA9Qry",
    "jupyter": {
     "outputs_hidden": false
    },
    "outputId": "fe539738-2dba-4c80-a1fc-30c7067331d9"
   },
   "outputs": [],
   "source": [
    "data['split_sec'] = data['split'].view(int) / 1E9\n",
    "data['final_sec'] = data['final'].view(int) / 1E9\n",
    "data.head()"
   ]
  },
  {
   "cell_type": "markdown",
   "metadata": {
    "id": "sC_n6Ddi9Qry"
   },
   "source": [
    "To get an idea of what the data looks like, we can plot a `jointplot` over the data; the following figure shows the result:"
   ]
  },
  {
   "cell_type": "code",
   "execution_count": null,
   "metadata": {
    "collapsed": false,
    "id": "UG0TEZ8S9Qry",
    "jupyter": {
     "outputs_hidden": false
    },
    "outputId": "1a710464-5fc6-446a-aa63-8a4de99872c9"
   },
   "outputs": [],
   "source": [
    "with sns.axes_style('white'):\n",
    "    g = sns.jointplot(x='split_sec', y='final_sec', data=data, kind='hex')\n",
    "    g.ax_joint.plot(np.linspace(4000, 16000),\n",
    "                    np.linspace(8000, 32000), ':k')"
   ]
  },
  {
   "cell_type": "markdown",
   "metadata": {
    "id": "vfnDJvn-9Qry"
   },
   "source": [
    "The dotted line shows where someone's time would lie if they ran the marathon at a perfectly steady pace. The fact that the distribution lies above this indicates (as you might expect) that most people slow down over the course of the marathon.\n",
    "If you have run competitively, you'll know that those who do the opposite—run faster during the second half of the race—are said to have \"negative-split\" the race.\n",
    "\n",
    "Let's create another column in the data, the split fraction, which measures the degree to which each runner negative-splits or positive-splits the race:"
   ]
  },
  {
   "cell_type": "code",
   "execution_count": null,
   "metadata": {
    "collapsed": false,
    "id": "TNGaA3kt9Qry",
    "jupyter": {
     "outputs_hidden": false
    },
    "outputId": "99011ed7-c090-463f-d537-7e415eb9e2ec"
   },
   "outputs": [],
   "source": [
    "data['split_frac'] = 1 - 2 * data['split_sec'] / data['final_sec']\n",
    "data.head()"
   ]
  },
  {
   "cell_type": "markdown",
   "metadata": {
    "id": "uqNXvhmv9Qry"
   },
   "source": [
    "Where this split difference is less than zero, the person negative-split the race by that fraction.\n",
    "Let's do a distribution plot of this split fraction (see the following figure):"
   ]
  },
  {
   "cell_type": "code",
   "execution_count": null,
   "metadata": {
    "collapsed": false,
    "id": "EgLzA6l49Qry",
    "jupyter": {
     "outputs_hidden": false
    },
    "outputId": "57da91ab-792a-4f6d-8b2d-2f5892b60b54"
   },
   "outputs": [],
   "source": [
    "sns.displot(data['split_frac'], kde=False)\n",
    "plt.axvline(0, color=\"k\", linestyle=\"--\");"
   ]
  },
  {
   "cell_type": "code",
   "execution_count": null,
   "metadata": {
    "collapsed": false,
    "id": "rmAqTCqh9Qry",
    "jupyter": {
     "outputs_hidden": false
    },
    "outputId": "29459f37-289a-4636-8d96-95577c500c00"
   },
   "outputs": [],
   "source": [
    "sum(data.split_frac < 0)"
   ]
  },
  {
   "cell_type": "markdown",
   "metadata": {
    "id": "FKxWbC8N9Qry"
   },
   "source": [
    "Out of nearly 40,000 participants, there were only 250 people who negative-split their marathon.\n",
    "\n",
    "Let's see whether there is any correlation between this split fraction and other variables. We'll do this using a `PairGrid`, which draws plots of all these correlations (see the following figure):"
   ]
  },
  {
   "cell_type": "code",
   "execution_count": null,
   "metadata": {
    "collapsed": false,
    "id": "yTejTlPM9Qry",
    "jupyter": {
     "outputs_hidden": false
    },
    "outputId": "5f472b43-16b3-43b5-f1a6-feac115ea896"
   },
   "outputs": [],
   "source": [
    "g = sns.PairGrid(data, vars=['age', 'split_sec', 'final_sec', 'split_frac'],\n",
    "                 hue='gender', palette='RdBu_r')\n",
    "g.map(plt.scatter, alpha=0.8)\n",
    "g.add_legend();"
   ]
  },
  {
   "cell_type": "markdown",
   "metadata": {
    "id": "ifehFf779Qry"
   },
   "source": [
    "It looks like the split fraction does not correlate particularly with age, but does correlate with the final time: faster runners tend to have closer to even splits on their marathon time. Let's zoom in on the histogram of split fractions separated by gender, shown in the following figure:"
   ]
  },
  {
   "cell_type": "code",
   "execution_count": null,
   "metadata": {
    "collapsed": false,
    "id": "VMviXgDk9Qry",
    "jupyter": {
     "outputs_hidden": false
    },
    "outputId": "e28d30f2-4fd6-4fcd-c0bd-2cf3b7e07f94"
   },
   "outputs": [],
   "source": [
    "sns.kdeplot(data.split_frac[data.gender=='M'], label='men', shade=True)\n",
    "sns.kdeplot(data.split_frac[data.gender=='W'], label='women', shade=True)\n",
    "plt.xlabel('split_frac');"
   ]
  },
  {
   "cell_type": "markdown",
   "metadata": {
    "id": "LfxfzIhR9Qry"
   },
   "source": [
    "The interesting thing here is that there are many more men than women who are running close to an even split!\n",
    "It almost looks like a bimodal distribution among the men and women. Let's see if we can suss out what's going on by looking at the distributions as a function of age.\n",
    "\n",
    "A nice way to compare distributions is to use a *violin plot*, shown in the following figure:"
   ]
  },
  {
   "cell_type": "code",
   "execution_count": null,
   "metadata": {
    "collapsed": false,
    "id": "n3s-agPH9Qry",
    "jupyter": {
     "outputs_hidden": false
    },
    "outputId": "1da2f4a4-63e6-4501-eebd-1a74adc2dc6c"
   },
   "outputs": [],
   "source": [
    "sns.violinplot(x=\"gender\", y=\"split_frac\", data=data,\n",
    "               palette=[\"lightblue\", \"lightpink\"]);"
   ]
  },
  {
   "cell_type": "markdown",
   "metadata": {
    "id": "pLUcPZRu9Qry"
   },
   "source": [
    "Let's look a little deeper, and compare these violin plots as a function of age (see the following figure). We'll start by creating a new column in the array that specifies the age range that each person is in, by decade:"
   ]
  },
  {
   "cell_type": "code",
   "execution_count": null,
   "metadata": {
    "collapsed": false,
    "id": "YthLzJ959Qry",
    "jupyter": {
     "outputs_hidden": false
    },
    "outputId": "a5838716-f2f8-4e26-ddb9-145537488ef1"
   },
   "outputs": [],
   "source": [
    "data['age_dec'] = data.age.map(lambda age: 10 * (age // 10))\n",
    "data.head()"
   ]
  },
  {
   "cell_type": "code",
   "execution_count": null,
   "metadata": {
    "collapsed": false,
    "id": "df9jjb959Qry",
    "jupyter": {
     "outputs_hidden": false
    },
    "outputId": "60cb54d1-cea8-4749-c58c-f02598c7b90a"
   },
   "outputs": [],
   "source": [
    "men = (data.gender == 'M')\n",
    "women = (data.gender == 'W')\n",
    "\n",
    "with sns.axes_style(style=None):\n",
    "    sns.violinplot(x=\"age_dec\", y=\"split_frac\", hue=\"gender\", data=data,\n",
    "                   split=True, inner=\"quartile\",\n",
    "                   palette=[\"lightblue\", \"lightpink\"]);"
   ]
  },
  {
   "cell_type": "markdown",
   "metadata": {
    "id": "cmsTmo1u9Qrz"
   },
   "source": [
    "We can see where the distributions among men and women differ: the split distributions of men in their 20s to 50s show a pronounced overdensity toward lower splits when compared to women of the same age (or of any age, for that matter).\n",
    "\n",
    "Also surprisingly, it appears that the 80-year-old women seem to outperform *everyone* in terms of their split time, although this is likely a small number effect, as there are only a handful of runners in that range:"
   ]
  },
  {
   "cell_type": "code",
   "execution_count": null,
   "metadata": {
    "collapsed": false,
    "id": "z0l_ILS79Qrz",
    "jupyter": {
     "outputs_hidden": false
    },
    "outputId": "19c81a99-756c-409e-f8b7-0f7bfa5a6914"
   },
   "outputs": [],
   "source": [
    "(data.age > 80).sum()"
   ]
  },
  {
   "cell_type": "markdown",
   "metadata": {
    "id": "Rpx3UnjC9Qrz"
   },
   "source": [
    "Back to the men with negative splits: who are these runners? Does this split fraction correlate with finishing quickly? We can plot this very easily. We'll use `regplot`, which will automatically fit a linear regression model to the data (see the following figure):"
   ]
  },
  {
   "cell_type": "code",
   "execution_count": null,
   "metadata": {
    "collapsed": false,
    "id": "Y8WxJbcN9Qrz",
    "jupyter": {
     "outputs_hidden": false
    },
    "outputId": "cca4d655-9361-4d95-a1a6-be69ef30fa06"
   },
   "outputs": [],
   "source": [
    "g = sns.lmplot(x='final_sec', y='split_frac', col='gender', data=data,\n",
    "               markers=\".\", scatter_kws=dict(color='c'))\n",
    "g.map(plt.axhline, y=0.0, color=\"k\", ls=\":\");"
   ]
  },
  {
   "cell_type": "markdown",
   "metadata": {
    "id": "uKKtGdzz9Qrz"
   },
   "source": [
    "Apparently, among both men and women, the people with fast splits tend to be faster runners who are finishing within ~15,000 seconds, or about 4 hours. People slower than that are much less likely to have a fast second split."
   ]
  }
 ],
 "metadata": {
  "anaconda-cloud": {},
  "colab": {
   "provenance": []
  },
  "jupytext": {
   "formats": "ipynb,md"
  },
  "kernelspec": {
   "display_name": "Python 3 (ipykernel)",
   "language": "python",
   "name": "python3"
  },
  "language_info": {
   "codemirror_mode": {
    "name": "ipython",
    "version": 3
   },
   "file_extension": ".py",
   "mimetype": "text/x-python",
   "name": "python",
   "nbconvert_exporter": "python",
   "pygments_lexer": "ipython3",
   "version": "3.10.9"
  }
 },
 "nbformat": 4,
 "nbformat_minor": 4
}

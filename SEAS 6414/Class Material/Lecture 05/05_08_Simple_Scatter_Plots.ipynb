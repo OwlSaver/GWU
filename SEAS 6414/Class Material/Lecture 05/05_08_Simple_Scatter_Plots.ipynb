{
 "cells": [
  {
   "cell_type": "markdown",
   "metadata": {
    "id": "73zU9Tp_8Xxt"
   },
   "source": [
    "# Simple Scatter Plots"
   ]
  },
  {
   "cell_type": "markdown",
   "metadata": {
    "id": "B9KmRiUl8Xxv"
   },
   "source": [
    "Another commonly used plot type is the simple scatter plot, a close cousin of the line plot.\n",
    "Instead of points being joined by line segments, here the points are represented individually with a dot, circle, or other shape.\n",
    "We’ll start by setting up the notebook for plotting and importing the packages we will use:"
   ]
  },
  {
   "cell_type": "code",
   "execution_count": null,
   "metadata": {
    "id": "staFRZk48Xxv",
    "tags": []
   },
   "outputs": [],
   "source": [
    "%matplotlib inline\n",
    "import matplotlib.pyplot as plt\n",
    "plt.style.use('seaborn-whitegrid')\n",
    "import numpy as np"
   ]
  },
  {
   "cell_type": "markdown",
   "metadata": {
    "id": "if9gtqii8Xxw"
   },
   "source": [
    "## Scatter Plots with plt.plot\n",
    "\n",
    "In the previous chapter we looked at using `plt.plot`/`ax.plot` to produce line plots.\n",
    "It turns out that this same function can produce scatter plots as well (see the following figure):"
   ]
  },
  {
   "cell_type": "code",
   "execution_count": null,
   "metadata": {
    "collapsed": false,
    "id": "yOiwjeaq8Xxw",
    "jupyter": {
     "outputs_hidden": false
    },
    "outputId": "b0657fd7-2f6d-41ab-c6e6-c6b39f0d2278"
   },
   "outputs": [],
   "source": [
    "x = np.linspace(0, 10, 30)\n",
    "y = np.sin(x)\n",
    "\n",
    "plt.plot(x, y, 'o', color='black');"
   ]
  },
  {
   "cell_type": "markdown",
   "metadata": {
    "id": "wq7iUgSA8Xxx"
   },
   "source": [
    "The third argument in the function call is a character that represents the type of symbol used for the plotting. Just as you can specify options such as `'-'` or `'--'` to control the line style, the marker style has its own set of short string codes. The full list of available symbols can be seen in the documentation of `plt.plot`, or in Matplotlib's [online documentation](https://matplotlib.org/stable/api/_as_gen/matplotlib.markers.MarkerStyle.html). Most of the possibilities are fairly intuitive, and a number of the more common ones are demonstrated here (see the following figure):"
   ]
  },
  {
   "cell_type": "code",
   "execution_count": null,
   "metadata": {
    "collapsed": false,
    "id": "vpoko6LL8Xxx",
    "jupyter": {
     "outputs_hidden": false
    },
    "outputId": "c5d10029-f35b-468b-f9d9-d0238910daff"
   },
   "outputs": [],
   "source": [
    "rng = np.random.default_rng(0)\n",
    "for marker in ['o', '.', ',', 'x', '+', 'v', '^', '<', '>', 's', 'd']:\n",
    "    plt.plot(rng.random(2), rng.random(2), marker, color='black',\n",
    "             label=\"marker='{0}'\".format(marker))\n",
    "plt.legend(numpoints=1, fontsize=13)\n",
    "plt.xlim(0, 1.8);"
   ]
  },
  {
   "cell_type": "markdown",
   "metadata": {
    "id": "o0nJsCWc8Xxx"
   },
   "source": [
    "For even more possibilities, these character codes can be used together with line and color codes to plot points along with a line connecting them (see the following figure):"
   ]
  },
  {
   "cell_type": "code",
   "execution_count": null,
   "metadata": {
    "collapsed": false,
    "id": "i4MT42PT8Xxx",
    "jupyter": {
     "outputs_hidden": false
    },
    "outputId": "edf261ac-6c02-42ea-d9e5-6da12f5a390d"
   },
   "outputs": [],
   "source": [
    "plt.plot(x, y, '-ok');"
   ]
  },
  {
   "cell_type": "markdown",
   "metadata": {
    "id": "wLx6beYA8Xxy"
   },
   "source": [
    "Additional keyword arguments to `plt.plot` specify a wide range of properties of the lines and markers, as you can see in the following figure:"
   ]
  },
  {
   "cell_type": "code",
   "execution_count": null,
   "metadata": {
    "collapsed": false,
    "id": "qETA9QuI8Xxy",
    "jupyter": {
     "outputs_hidden": false
    },
    "outputId": "fc357078-0703-4a24-989e-a072abe9e2a2"
   },
   "outputs": [],
   "source": [
    "plt.plot(x, y, '-p', color='gray',\n",
    "         markersize=15, linewidth=4,\n",
    "         markerfacecolor='white',\n",
    "         markeredgecolor='gray',\n",
    "         markeredgewidth=2)\n",
    "plt.ylim(-1.2, 1.2);"
   ]
  },
  {
   "cell_type": "markdown",
   "metadata": {
    "id": "lSkA3Tp08Xxy"
   },
   "source": [
    "These kinds of options make `plt.plot` the primary workhorse for two-dimensional plots in Matplotlib.\n",
    "For a full description of the options available, refer to the [`plt.plot` documentation](https://matplotlib.org/3.5.0/api/_as_gen/matplotlib.pyplot.plot.html)."
   ]
  },
  {
   "cell_type": "markdown",
   "metadata": {
    "id": "eFypzuI98Xxy"
   },
   "source": [
    "## Scatter Plots with plt.scatter\n",
    "\n",
    "A second, more powerful method of creating scatter plots is the `plt.scatter` function, which can be used very similarly to the `plt.plot` function (see the following figure):"
   ]
  },
  {
   "cell_type": "code",
   "execution_count": null,
   "metadata": {
    "collapsed": false,
    "id": "acTeqYzw8Xxy",
    "jupyter": {
     "outputs_hidden": false
    },
    "outputId": "9f99f31c-aa24-4154-8d5e-dcb6749e0494"
   },
   "outputs": [],
   "source": [
    "plt.scatter(x, y, marker='o');"
   ]
  },
  {
   "cell_type": "markdown",
   "metadata": {
    "id": "l67OkbZ38Xxy"
   },
   "source": [
    "The primary difference of `plt.scatter` from `plt.plot` is that it can be used to create scatter plots where the properties of each individual point (size, face color, edge color, etc.) can be individually controlled or mapped to data.\n",
    "\n",
    "Let's show this by creating a random scatter plot with points of many colors and sizes.\n",
    "In order to better see the overlapping results, we'll also use the `alpha` keyword to adjust the transparency level (see the following figure):"
   ]
  },
  {
   "cell_type": "code",
   "execution_count": null,
   "metadata": {
    "collapsed": false,
    "id": "exh5bEgK8Xxy",
    "jupyter": {
     "outputs_hidden": false
    },
    "outputId": "8ece6606-9998-4e5b-f3e4-b1fd2c7a1ddf"
   },
   "outputs": [],
   "source": [
    "rng = np.random.default_rng(0)\n",
    "x = rng.normal(size=100)\n",
    "y = rng.normal(size=100)\n",
    "colors = rng.random(100)\n",
    "sizes = 1000 * rng.random(100)\n",
    "\n",
    "plt.scatter(x, y, c=colors, s=sizes, alpha=0.3)\n",
    "plt.colorbar();  # show color scale"
   ]
  },
  {
   "cell_type": "markdown",
   "metadata": {
    "id": "3gR91aWx8Xxy"
   },
   "source": [
    "Notice that the color argument is automatically mapped to a color scale (shown here by the `colorbar` command), and that the size argument is given in pixels.\n",
    "In this way, the color and size of points can be used to convey information in the visualization, in order to visualize multidimensional data.\n",
    "\n",
    "For example, we might use the Iris dataset from Scikit-Learn, where each sample is one of three types of flowers that has had the size of its petals and sepals carefully measured (see the following figure):"
   ]
  },
  {
   "cell_type": "code",
   "execution_count": null,
   "metadata": {
    "collapsed": false,
    "id": "Ba2uCT-28Xxy",
    "jupyter": {
     "outputs_hidden": false
    },
    "outputId": "d9b30b32-5a26-47a4-b611-55c8a0e11330"
   },
   "outputs": [],
   "source": [
    "from sklearn.datasets import load_iris\n",
    "iris = load_iris()\n",
    "features = iris.data.T\n",
    "\n",
    "plt.scatter(features[0], features[1], alpha=0.4,\n",
    "            s=100*features[3], c=iris.target, cmap='viridis')\n",
    "plt.xlabel(iris.feature_names[0])\n",
    "plt.ylabel(iris.feature_names[1]);"
   ]
  },
  {
   "cell_type": "markdown",
   "metadata": {
    "id": "zKZMOLlv8Xxy"
   },
   "source": [
    "A full-color version of this plot is available in the [online version](http://github.com/jakevdp/PythonDataScienceHandbook) of the book.\n",
    "\n",
    "We can see that this scatter plot has given us the ability to simultaneously explore four different dimensions of the data:\n",
    "the (*x*, *y*) location of each point corresponds to the sepal length and width, the size of the point is related to the petal width, and the color is related to the particular species of flower.\n",
    "Multicolor and multifeature scatter plots like this can be useful for both exploration and presentation of data."
   ]
  },
  {
   "cell_type": "markdown",
   "metadata": {
    "id": "mO7jhX5O8Xxz"
   },
   "source": [
    "## plot Versus scatter: A Note on Efficiency\n",
    "\n",
    "Aside from the different features available in `plt.plot` and `plt.scatter`, why might you choose to use one over the other? While it doesn't matter as much for small amounts of data, as datasets get larger than a few thousand points, `plt.plot` can be noticeably more efficient than `plt.scatter`.\n",
    "The reason is that `plt.scatter` has the capability to render a different size and/or color for each point, so the renderer must do the extra work of constructing each point individually.\n",
    "With `plt.plot`, on the other hand, the markers for each point are guaranteed to be identical, so the work of determining the appearance of the points is done only once for the entire set of data.\n",
    "For large datasets, this difference can lead to vastly different performance, and for this reason, `plt.plot` should be preferred over `plt.scatter` for large datasets."
   ]
  }
 ],
 "metadata": {
  "colab": {
   "provenance": []
  },
  "jupytext": {
   "encoding": "# -*- coding: utf-8 -*-",
   "formats": "ipynb,md"
  },
  "kernelspec": {
   "display_name": "Python 3 (ipykernel)",
   "language": "python",
   "name": "python3"
  },
  "language_info": {
   "codemirror_mode": {
    "name": "ipython",
    "version": 3
   },
   "file_extension": ".py",
   "mimetype": "text/x-python",
   "name": "python",
   "nbconvert_exporter": "python",
   "pygments_lexer": "ipython3",
   "version": "3.10.9"
  }
 },
 "nbformat": 4,
 "nbformat_minor": 4
}
